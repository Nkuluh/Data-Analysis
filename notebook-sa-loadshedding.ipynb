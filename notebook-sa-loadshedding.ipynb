{
 "cells": [
  {
   "cell_type": "code",
   "execution_count": 1,
   "id": "1726adff",
   "metadata": {
    "_cell_guid": "b1076dfc-b9ad-4769-8c92-a6c4dae69d19",
    "_uuid": "8f2839f25d086af736a60e9eeb907d3b93b6e0e5",
    "execution": {
     "iopub.execute_input": "2024-05-09T08:54:41.445520Z",
     "iopub.status.busy": "2024-05-09T08:54:41.444633Z",
     "iopub.status.idle": "2024-05-09T08:54:42.423424Z",
     "shell.execute_reply": "2024-05-09T08:54:42.422363Z"
    },
    "papermill": {
     "duration": 0.997644,
     "end_time": "2024-05-09T08:54:42.426006",
     "exception": false,
     "start_time": "2024-05-09T08:54:41.428362",
     "status": "completed"
    },
    "tags": []
   },
   "outputs": [
    {
     "name": "stdout",
     "output_type": "stream",
     "text": [
      "/kaggle/input/datathon/Total_Electricity_Production.csv\n",
      "/kaggle/input/datathon/south_africa_temperature.png\n",
      "/kaggle/input/datathon/south_africa_load_shedding_history.csv\n",
      "/kaggle/input/datathon/world_indicators.csv\n"
     ]
    }
   ],
   "source": [
    "# This Python 3 environment comes with many helpful analytics libraries installed\n",
    "# It is defined by the kaggle/python Docker image: https://github.com/kaggle/docker-python\n",
    "# For example, here's several helpful packages to load\n",
    "\n",
    "import numpy as np # linear algebra\n",
    "import pandas as pd # data processing, CSV file I/O (e.g. pd.read_csv)\n",
    "\n",
    "# Input data files are available in the read-only \"../input/\" directory\n",
    "# For example, running this (by clicking run or pressing Shift+Enter) will list all files under the input directory\n",
    "\n",
    "import os\n",
    "for dirname, _, filenames in os.walk('/kaggle/input'):\n",
    "    for filename in filenames:\n",
    "        print(os.path.join(dirname, filename))\n",
    "\n",
    "# You can write up to 20GB to the current directory (/kaggle/working/) that gets preserved as output when you create a version using \"Save & Run All\" \n",
    "# You can also write temporary files to /kaggle/temp/, but they won't be saved outside of the current session"
   ]
  },
  {
   "cell_type": "markdown",
   "id": "d3660a71",
   "metadata": {
    "papermill": {
     "duration": 0.014052,
     "end_time": "2024-05-09T08:54:42.454729",
     "exception": false,
     "start_time": "2024-05-09T08:54:42.440677",
     "status": "completed"
    },
    "tags": []
   },
   "source": [
    "What is the relationship between Electricity production and Load_shedding in South Africa?"
   ]
  },
  {
   "cell_type": "code",
   "execution_count": 2,
   "id": "bc4043ab",
   "metadata": {
    "execution": {
     "iopub.execute_input": "2024-05-09T08:54:42.485303Z",
     "iopub.status.busy": "2024-05-09T08:54:42.484757Z",
     "iopub.status.idle": "2024-05-09T08:54:43.382307Z",
     "shell.execute_reply": "2024-05-09T08:54:43.381089Z"
    },
    "papermill": {
     "duration": 0.916357,
     "end_time": "2024-05-09T08:54:43.385437",
     "exception": false,
     "start_time": "2024-05-09T08:54:42.469080",
     "status": "completed"
    },
    "tags": []
   },
   "outputs": [],
   "source": [
    "import numpy as np\n",
    "import datetime\n",
    "import plotly.graph_objs as go \n",
    "import plotly.io as pio \n",
    "import plotly.express as px \n",
    "\n",
    "# Importing Plotly \n",
    "#import plotly.offline as py \n",
    "#py.init_notebook_mode(connected=True) \n",
    "  \n",
    "# Initializing Plotly \n",
    "pio.renderers.default = 'colab'"
   ]
  },
  {
   "cell_type": "code",
   "execution_count": 3,
   "id": "50c15431",
   "metadata": {
    "execution": {
     "iopub.execute_input": "2024-05-09T08:54:43.418339Z",
     "iopub.status.busy": "2024-05-09T08:54:43.417896Z",
     "iopub.status.idle": "2024-05-09T08:54:43.458339Z",
     "shell.execute_reply": "2024-05-09T08:54:43.457283Z"
    },
    "papermill": {
     "duration": 0.05901,
     "end_time": "2024-05-09T08:54:43.461009",
     "exception": false,
     "start_time": "2024-05-09T08:54:43.401999",
     "status": "completed"
    },
    "tags": []
   },
   "outputs": [],
   "source": [
    "df = pd.read_csv(\"/kaggle/input/datathon/world_indicators.csv\")\n",
    "df2 = pd.read_csv(\"/kaggle/input/datathon/Total_Electricity_Production.csv\")\n",
    "df3 = pd.read_csv(\"/kaggle/input/datathon/south_africa_load_shedding_history.csv\")"
   ]
  },
  {
   "cell_type": "markdown",
   "id": "32ad3008",
   "metadata": {
    "papermill": {
     "duration": 0.014458,
     "end_time": "2024-05-09T08:54:43.490107",
     "exception": false,
     "start_time": "2024-05-09T08:54:43.475649",
     "status": "completed"
    },
    "tags": []
   },
   "source": [
    "**Lets check the first five rows of df**"
   ]
  },
  {
   "cell_type": "code",
   "execution_count": 4,
   "id": "0ca1321b",
   "metadata": {
    "execution": {
     "iopub.execute_input": "2024-05-09T08:54:43.522490Z",
     "iopub.status.busy": "2024-05-09T08:54:43.522075Z",
     "iopub.status.idle": "2024-05-09T08:54:43.555870Z",
     "shell.execute_reply": "2024-05-09T08:54:43.554686Z"
    },
    "papermill": {
     "duration": 0.053861,
     "end_time": "2024-05-09T08:54:43.558633",
     "exception": false,
     "start_time": "2024-05-09T08:54:43.504772",
     "status": "completed"
    },
    "tags": []
   },
   "outputs": [
    {
     "data": {
      "text/html": [
       "<div>\n",
       "<style scoped>\n",
       "    .dataframe tbody tr th:only-of-type {\n",
       "        vertical-align: middle;\n",
       "    }\n",
       "\n",
       "    .dataframe tbody tr th {\n",
       "        vertical-align: top;\n",
       "    }\n",
       "\n",
       "    .dataframe thead th {\n",
       "        text-align: right;\n",
       "    }\n",
       "</style>\n",
       "<table border=\"1\" class=\"dataframe\">\n",
       "  <thead>\n",
       "    <tr style=\"text-align: right;\">\n",
       "      <th></th>\n",
       "      <th>Country Name</th>\n",
       "      <th>Country Code</th>\n",
       "      <th>Series Name</th>\n",
       "      <th>Series Code</th>\n",
       "      <th>2000 [YR2000]</th>\n",
       "      <th>2001 [YR2001]</th>\n",
       "      <th>2002 [YR2002]</th>\n",
       "      <th>2003 [YR2003]</th>\n",
       "      <th>2004 [YR2004]</th>\n",
       "      <th>2005 [YR2005]</th>\n",
       "      <th>...</th>\n",
       "      <th>2011 [YR2011]</th>\n",
       "      <th>2012 [YR2012]</th>\n",
       "      <th>2013 [YR2013]</th>\n",
       "      <th>2014 [YR2014]</th>\n",
       "      <th>2015 [YR2015]</th>\n",
       "      <th>2016 [YR2016]</th>\n",
       "      <th>2017 [YR2017]</th>\n",
       "      <th>2018 [YR2018]</th>\n",
       "      <th>2019 [YR2019]</th>\n",
       "      <th>2020 [YR2020]</th>\n",
       "    </tr>\n",
       "  </thead>\n",
       "  <tbody>\n",
       "    <tr>\n",
       "      <th>0</th>\n",
       "      <td>South Africa</td>\n",
       "      <td>ZAF</td>\n",
       "      <td>Population density (people per sq. km of land ...</td>\n",
       "      <td>EN.POP.DNST</td>\n",
       "      <td>37.0687319160161</td>\n",
       "      <td>37.5662762037442</td>\n",
       "      <td>38.0440964808877</td>\n",
       "      <td>38.5125555399847</td>\n",
       "      <td>38.9844199523531</td>\n",
       "      <td>39.4699494678878</td>\n",
       "      <td>...</td>\n",
       "      <td>42.8691787089169</td>\n",
       "      <td>43.5532441945775</td>\n",
       "      <td>44.2582462966474</td>\n",
       "      <td>44.9645046946228</td>\n",
       "      <td>45.6572612089787</td>\n",
       "      <td>46.3309845106299</td>\n",
       "      <td>46.987817062213</td>\n",
       "      <td>47.6301197767684</td>\n",
       "      <td>..</td>\n",
       "      <td>..</td>\n",
       "    </tr>\n",
       "    <tr>\n",
       "      <th>1</th>\n",
       "      <td>South Africa</td>\n",
       "      <td>ZAF</td>\n",
       "      <td>Population, total</td>\n",
       "      <td>SP.POP.TOTL</td>\n",
       "      <td>44967708</td>\n",
       "      <td>45571274</td>\n",
       "      <td>46150913</td>\n",
       "      <td>46719196</td>\n",
       "      <td>47291610</td>\n",
       "      <td>47880601</td>\n",
       "      <td>...</td>\n",
       "      <td>52004172</td>\n",
       "      <td>52834005</td>\n",
       "      <td>53689236</td>\n",
       "      <td>54545991</td>\n",
       "      <td>55386367</td>\n",
       "      <td>56203654</td>\n",
       "      <td>57000451</td>\n",
       "      <td>57779622</td>\n",
       "      <td>58558270</td>\n",
       "      <td>..</td>\n",
       "    </tr>\n",
       "    <tr>\n",
       "      <th>2</th>\n",
       "      <td>South Africa</td>\n",
       "      <td>ZAF</td>\n",
       "      <td>GDP (current US$)</td>\n",
       "      <td>NY.GDP.MKTP.CD</td>\n",
       "      <td>136361298082.061</td>\n",
       "      <td>121514658737.165</td>\n",
       "      <td>115482368343.658</td>\n",
       "      <td>175256916996.047</td>\n",
       "      <td>228590027400.653</td>\n",
       "      <td>257772710832.953</td>\n",
       "      <td>...</td>\n",
       "      <td>416418874936.304</td>\n",
       "      <td>396332702639.496</td>\n",
       "      <td>366829390478.954</td>\n",
       "      <td>350904575292.317</td>\n",
       "      <td>317620522794.827</td>\n",
       "      <td>296357282715.109</td>\n",
       "      <td>349554116683.818</td>\n",
       "      <td>368288939768.322</td>\n",
       "      <td>351431649241.439</td>\n",
       "      <td>..</td>\n",
       "    </tr>\n",
       "    <tr>\n",
       "      <th>3</th>\n",
       "      <td>South Africa</td>\n",
       "      <td>ZAF</td>\n",
       "      <td>GDP growth (annual %)</td>\n",
       "      <td>NY.GDP.MKTP.KD.ZG</td>\n",
       "      <td>4.20000347551795</td>\n",
       "      <td>2.69999456713741</td>\n",
       "      <td>3.70038235175596</td>\n",
       "      <td>2.9490791374903</td>\n",
       "      <td>4.55455274472709</td>\n",
       "      <td>5.2770563116366</td>\n",
       "      <td>...</td>\n",
       "      <td>3.2841681423114</td>\n",
       "      <td>2.21335480848441</td>\n",
       "      <td>2.4852005003106</td>\n",
       "      <td>1.84699160365717</td>\n",
       "      <td>1.19373280124428</td>\n",
       "      <td>0.399087929556359</td>\n",
       "      <td>1.41451262585058</td>\n",
       "      <td>0.787055570495099</td>\n",
       "      <td>0.152583316664234</td>\n",
       "      <td>..</td>\n",
       "    </tr>\n",
       "    <tr>\n",
       "      <th>4</th>\n",
       "      <td>South Africa</td>\n",
       "      <td>ZAF</td>\n",
       "      <td>GDP per capita (constant 2010 US$)</td>\n",
       "      <td>NY.GDP.PCAP.KD</td>\n",
       "      <td>5937.6260860986</td>\n",
       "      <td>6017.17784586121</td>\n",
       "      <td>6161.46631380485</td>\n",
       "      <td>6266.01573980923</td>\n",
       "      <td>6472.10703408701</td>\n",
       "      <td>6729.8274660259</td>\n",
       "      <td>...</td>\n",
       "      <td>7454.72016478301</td>\n",
       "      <td>7500.04106663005</td>\n",
       "      <td>7563.99277707639</td>\n",
       "      <td>7582.69692889496</td>\n",
       "      <td>7556.78857882235</td>\n",
       "      <td>7476.62101155809</td>\n",
       "      <td>7476.38632385801</td>\n",
       "      <td>7433.61539826952</td>\n",
       "      <td>7345.96241792901</td>\n",
       "      <td>..</td>\n",
       "    </tr>\n",
       "  </tbody>\n",
       "</table>\n",
       "<p>5 rows × 25 columns</p>\n",
       "</div>"
      ],
      "text/plain": [
       "   Country Name Country Code  \\\n",
       "0  South Africa          ZAF   \n",
       "1  South Africa          ZAF   \n",
       "2  South Africa          ZAF   \n",
       "3  South Africa          ZAF   \n",
       "4  South Africa          ZAF   \n",
       "\n",
       "                                         Series Name        Series Code  \\\n",
       "0  Population density (people per sq. km of land ...        EN.POP.DNST   \n",
       "1                                  Population, total        SP.POP.TOTL   \n",
       "2                                  GDP (current US$)     NY.GDP.MKTP.CD   \n",
       "3                              GDP growth (annual %)  NY.GDP.MKTP.KD.ZG   \n",
       "4                 GDP per capita (constant 2010 US$)     NY.GDP.PCAP.KD   \n",
       "\n",
       "      2000 [YR2000]     2001 [YR2001]     2002 [YR2002]     2003 [YR2003]  \\\n",
       "0  37.0687319160161  37.5662762037442  38.0440964808877  38.5125555399847   \n",
       "1          44967708          45571274          46150913          46719196   \n",
       "2  136361298082.061  121514658737.165  115482368343.658  175256916996.047   \n",
       "3  4.20000347551795  2.69999456713741  3.70038235175596   2.9490791374903   \n",
       "4   5937.6260860986  6017.17784586121  6161.46631380485  6266.01573980923   \n",
       "\n",
       "      2004 [YR2004]     2005 [YR2005]  ...     2011 [YR2011]  \\\n",
       "0  38.9844199523531  39.4699494678878  ...  42.8691787089169   \n",
       "1          47291610          47880601  ...          52004172   \n",
       "2  228590027400.653  257772710832.953  ...  416418874936.304   \n",
       "3  4.55455274472709   5.2770563116366  ...   3.2841681423114   \n",
       "4  6472.10703408701   6729.8274660259  ...  7454.72016478301   \n",
       "\n",
       "      2012 [YR2012]     2013 [YR2013]     2014 [YR2014]     2015 [YR2015]  \\\n",
       "0  43.5532441945775  44.2582462966474  44.9645046946228  45.6572612089787   \n",
       "1          52834005          53689236          54545991          55386367   \n",
       "2  396332702639.496  366829390478.954  350904575292.317  317620522794.827   \n",
       "3  2.21335480848441   2.4852005003106  1.84699160365717  1.19373280124428   \n",
       "4  7500.04106663005  7563.99277707639  7582.69692889496  7556.78857882235   \n",
       "\n",
       "       2016 [YR2016]     2017 [YR2017]      2018 [YR2018]      2019 [YR2019]  \\\n",
       "0   46.3309845106299   46.987817062213   47.6301197767684                 ..   \n",
       "1           56203654          57000451           57779622           58558270   \n",
       "2   296357282715.109  349554116683.818   368288939768.322   351431649241.439   \n",
       "3  0.399087929556359  1.41451262585058  0.787055570495099  0.152583316664234   \n",
       "4   7476.62101155809  7476.38632385801   7433.61539826952   7345.96241792901   \n",
       "\n",
       "  2020 [YR2020]  \n",
       "0            ..  \n",
       "1            ..  \n",
       "2            ..  \n",
       "3            ..  \n",
       "4            ..  \n",
       "\n",
       "[5 rows x 25 columns]"
      ]
     },
     "execution_count": 4,
     "metadata": {},
     "output_type": "execute_result"
    }
   ],
   "source": [
    "df.head()"
   ]
  },
  {
   "cell_type": "markdown",
   "id": "ef3d028a",
   "metadata": {
    "papermill": {
     "duration": 0.015001,
     "end_time": "2024-05-09T08:54:43.588607",
     "exception": false,
     "start_time": "2024-05-09T08:54:43.573606",
     "status": "completed"
    },
    "tags": []
   },
   "source": [
    "we will be focusing on the df from 2015 to recent data available so lets drop other years"
   ]
  },
  {
   "cell_type": "code",
   "execution_count": 5,
   "id": "2d9e2dcc",
   "metadata": {
    "execution": {
     "iopub.execute_input": "2024-05-09T08:54:43.620416Z",
     "iopub.status.busy": "2024-05-09T08:54:43.619997Z",
     "iopub.status.idle": "2024-05-09T08:54:43.633426Z",
     "shell.execute_reply": "2024-05-09T08:54:43.632427Z"
    },
    "papermill": {
     "duration": 0.031964,
     "end_time": "2024-05-09T08:54:43.635895",
     "exception": false,
     "start_time": "2024-05-09T08:54:43.603931",
     "status": "completed"
    },
    "tags": []
   },
   "outputs": [],
   "source": [
    "df00 = df[['Country Name', 'Country Code','Series Code','2015 [YR2015]','2016 [YR2016]','2017 [YR2017]','2018 [YR2018]','2019 [YR2019]']]"
   ]
  },
  {
   "cell_type": "code",
   "execution_count": 6,
   "id": "cfacaaf6",
   "metadata": {
    "execution": {
     "iopub.execute_input": "2024-05-09T08:54:43.668062Z",
     "iopub.status.busy": "2024-05-09T08:54:43.667369Z",
     "iopub.status.idle": "2024-05-09T08:54:43.687834Z",
     "shell.execute_reply": "2024-05-09T08:54:43.686633Z"
    },
    "papermill": {
     "duration": 0.039615,
     "end_time": "2024-05-09T08:54:43.690465",
     "exception": false,
     "start_time": "2024-05-09T08:54:43.650850",
     "status": "completed"
    },
    "tags": []
   },
   "outputs": [
    {
     "data": {
      "text/html": [
       "<div>\n",
       "<style scoped>\n",
       "    .dataframe tbody tr th:only-of-type {\n",
       "        vertical-align: middle;\n",
       "    }\n",
       "\n",
       "    .dataframe tbody tr th {\n",
       "        vertical-align: top;\n",
       "    }\n",
       "\n",
       "    .dataframe thead th {\n",
       "        text-align: right;\n",
       "    }\n",
       "</style>\n",
       "<table border=\"1\" class=\"dataframe\">\n",
       "  <thead>\n",
       "    <tr style=\"text-align: right;\">\n",
       "      <th></th>\n",
       "      <th>Country Name</th>\n",
       "      <th>Country Code</th>\n",
       "      <th>Series Code</th>\n",
       "      <th>2015 [YR2015]</th>\n",
       "      <th>2016 [YR2016]</th>\n",
       "      <th>2017 [YR2017]</th>\n",
       "      <th>2018 [YR2018]</th>\n",
       "      <th>2019 [YR2019]</th>\n",
       "    </tr>\n",
       "  </thead>\n",
       "  <tbody>\n",
       "    <tr>\n",
       "      <th>0</th>\n",
       "      <td>South Africa</td>\n",
       "      <td>ZAF</td>\n",
       "      <td>EN.POP.DNST</td>\n",
       "      <td>45.6572612089787</td>\n",
       "      <td>46.3309845106299</td>\n",
       "      <td>46.987817062213</td>\n",
       "      <td>47.6301197767684</td>\n",
       "      <td>..</td>\n",
       "    </tr>\n",
       "    <tr>\n",
       "      <th>1</th>\n",
       "      <td>South Africa</td>\n",
       "      <td>ZAF</td>\n",
       "      <td>SP.POP.TOTL</td>\n",
       "      <td>55386367</td>\n",
       "      <td>56203654</td>\n",
       "      <td>57000451</td>\n",
       "      <td>57779622</td>\n",
       "      <td>58558270</td>\n",
       "    </tr>\n",
       "    <tr>\n",
       "      <th>2</th>\n",
       "      <td>South Africa</td>\n",
       "      <td>ZAF</td>\n",
       "      <td>NY.GDP.MKTP.CD</td>\n",
       "      <td>317620522794.827</td>\n",
       "      <td>296357282715.109</td>\n",
       "      <td>349554116683.818</td>\n",
       "      <td>368288939768.322</td>\n",
       "      <td>351431649241.439</td>\n",
       "    </tr>\n",
       "    <tr>\n",
       "      <th>3</th>\n",
       "      <td>South Africa</td>\n",
       "      <td>ZAF</td>\n",
       "      <td>NY.GDP.MKTP.KD.ZG</td>\n",
       "      <td>1.19373280124428</td>\n",
       "      <td>0.399087929556359</td>\n",
       "      <td>1.41451262585058</td>\n",
       "      <td>0.787055570495099</td>\n",
       "      <td>0.152583316664234</td>\n",
       "    </tr>\n",
       "    <tr>\n",
       "      <th>4</th>\n",
       "      <td>South Africa</td>\n",
       "      <td>ZAF</td>\n",
       "      <td>NY.GDP.PCAP.KD</td>\n",
       "      <td>7556.78857882235</td>\n",
       "      <td>7476.62101155809</td>\n",
       "      <td>7476.38632385801</td>\n",
       "      <td>7433.61539826952</td>\n",
       "      <td>7345.96241792901</td>\n",
       "    </tr>\n",
       "    <tr>\n",
       "      <th>...</th>\n",
       "      <td>...</td>\n",
       "      <td>...</td>\n",
       "      <td>...</td>\n",
       "      <td>...</td>\n",
       "      <td>...</td>\n",
       "      <td>...</td>\n",
       "      <td>...</td>\n",
       "      <td>...</td>\n",
       "    </tr>\n",
       "    <tr>\n",
       "      <th>228</th>\n",
       "      <td>NaN</td>\n",
       "      <td>NaN</td>\n",
       "      <td>NaN</td>\n",
       "      <td>NaN</td>\n",
       "      <td>NaN</td>\n",
       "      <td>NaN</td>\n",
       "      <td>NaN</td>\n",
       "      <td>NaN</td>\n",
       "    </tr>\n",
       "    <tr>\n",
       "      <th>229</th>\n",
       "      <td>NaN</td>\n",
       "      <td>NaN</td>\n",
       "      <td>NaN</td>\n",
       "      <td>NaN</td>\n",
       "      <td>NaN</td>\n",
       "      <td>NaN</td>\n",
       "      <td>NaN</td>\n",
       "      <td>NaN</td>\n",
       "    </tr>\n",
       "    <tr>\n",
       "      <th>230</th>\n",
       "      <td>NaN</td>\n",
       "      <td>NaN</td>\n",
       "      <td>NaN</td>\n",
       "      <td>NaN</td>\n",
       "      <td>NaN</td>\n",
       "      <td>NaN</td>\n",
       "      <td>NaN</td>\n",
       "      <td>NaN</td>\n",
       "    </tr>\n",
       "    <tr>\n",
       "      <th>231</th>\n",
       "      <td>Data from database: World Development Indicators</td>\n",
       "      <td>NaN</td>\n",
       "      <td>NaN</td>\n",
       "      <td>NaN</td>\n",
       "      <td>NaN</td>\n",
       "      <td>NaN</td>\n",
       "      <td>NaN</td>\n",
       "      <td>NaN</td>\n",
       "    </tr>\n",
       "    <tr>\n",
       "      <th>232</th>\n",
       "      <td>Last Updated: 09/16/2020</td>\n",
       "      <td>NaN</td>\n",
       "      <td>NaN</td>\n",
       "      <td>NaN</td>\n",
       "      <td>NaN</td>\n",
       "      <td>NaN</td>\n",
       "      <td>NaN</td>\n",
       "      <td>NaN</td>\n",
       "    </tr>\n",
       "  </tbody>\n",
       "</table>\n",
       "<p>233 rows × 8 columns</p>\n",
       "</div>"
      ],
      "text/plain": [
       "                                         Country Name Country Code  \\\n",
       "0                                        South Africa          ZAF   \n",
       "1                                        South Africa          ZAF   \n",
       "2                                        South Africa          ZAF   \n",
       "3                                        South Africa          ZAF   \n",
       "4                                        South Africa          ZAF   \n",
       "..                                                ...          ...   \n",
       "228                                               NaN          NaN   \n",
       "229                                               NaN          NaN   \n",
       "230                                               NaN          NaN   \n",
       "231  Data from database: World Development Indicators          NaN   \n",
       "232                          Last Updated: 09/16/2020          NaN   \n",
       "\n",
       "           Series Code     2015 [YR2015]      2016 [YR2016]     2017 [YR2017]  \\\n",
       "0          EN.POP.DNST  45.6572612089787   46.3309845106299   46.987817062213   \n",
       "1          SP.POP.TOTL          55386367           56203654          57000451   \n",
       "2       NY.GDP.MKTP.CD  317620522794.827   296357282715.109  349554116683.818   \n",
       "3    NY.GDP.MKTP.KD.ZG  1.19373280124428  0.399087929556359  1.41451262585058   \n",
       "4       NY.GDP.PCAP.KD  7556.78857882235   7476.62101155809  7476.38632385801   \n",
       "..                 ...               ...                ...               ...   \n",
       "228                NaN               NaN                NaN               NaN   \n",
       "229                NaN               NaN                NaN               NaN   \n",
       "230                NaN               NaN                NaN               NaN   \n",
       "231                NaN               NaN                NaN               NaN   \n",
       "232                NaN               NaN                NaN               NaN   \n",
       "\n",
       "         2018 [YR2018]      2019 [YR2019]  \n",
       "0     47.6301197767684                 ..  \n",
       "1             57779622           58558270  \n",
       "2     368288939768.322   351431649241.439  \n",
       "3    0.787055570495099  0.152583316664234  \n",
       "4     7433.61539826952   7345.96241792901  \n",
       "..                 ...                ...  \n",
       "228                NaN                NaN  \n",
       "229                NaN                NaN  \n",
       "230                NaN                NaN  \n",
       "231                NaN                NaN  \n",
       "232                NaN                NaN  \n",
       "\n",
       "[233 rows x 8 columns]"
      ]
     },
     "execution_count": 6,
     "metadata": {},
     "output_type": "execute_result"
    }
   ],
   "source": [
    "df00"
   ]
  },
  {
   "cell_type": "markdown",
   "id": "ccadd1b3",
   "metadata": {
    "papermill": {
     "duration": 0.014997,
     "end_time": "2024-05-09T08:54:43.721390",
     "exception": false,
     "start_time": "2024-05-09T08:54:43.706393",
     "status": "completed"
    },
    "tags": []
   },
   "source": [
    "Lets see which countries are covered"
   ]
  },
  {
   "cell_type": "code",
   "execution_count": 7,
   "id": "34c054d9",
   "metadata": {
    "execution": {
     "iopub.execute_input": "2024-05-09T08:54:43.753665Z",
     "iopub.status.busy": "2024-05-09T08:54:43.753208Z",
     "iopub.status.idle": "2024-05-09T08:54:43.761982Z",
     "shell.execute_reply": "2024-05-09T08:54:43.760552Z"
    },
    "papermill": {
     "duration": 0.027761,
     "end_time": "2024-05-09T08:54:43.764404",
     "exception": false,
     "start_time": "2024-05-09T08:54:43.736643",
     "status": "completed"
    },
    "tags": []
   },
   "outputs": [
    {
     "data": {
      "text/plain": [
       "array(['South Africa', 'Nigeria', 'Sub-Saharan Africa', 'World',\n",
       "       'Egypt, Arab Rep.', 'Algeria', 'Morocco', 'Libya', 'Botswana',\n",
       "       'Namibia', 'Gabon', 'Equatorial Guinea', nan,\n",
       "       'Data from database: World Development Indicators',\n",
       "       'Last Updated: 09/16/2020'], dtype=object)"
      ]
     },
     "execution_count": 7,
     "metadata": {},
     "output_type": "execute_result"
    }
   ],
   "source": [
    "df['Country Name'].unique()"
   ]
  },
  {
   "cell_type": "markdown",
   "id": "d03c4a38",
   "metadata": {
    "papermill": {
     "duration": 0.016723,
     "end_time": "2024-05-09T08:54:43.796582",
     "exception": false,
     "start_time": "2024-05-09T08:54:43.779859",
     "status": "completed"
    },
    "tags": []
   },
   "source": [
    "Lets further filter the data and leave south africa's data then drop all other countries"
   ]
  },
  {
   "cell_type": "code",
   "execution_count": 8,
   "id": "3453d25f",
   "metadata": {
    "execution": {
     "iopub.execute_input": "2024-05-09T08:54:43.829736Z",
     "iopub.status.busy": "2024-05-09T08:54:43.828556Z",
     "iopub.status.idle": "2024-05-09T08:54:43.834972Z",
     "shell.execute_reply": "2024-05-09T08:54:43.833902Z"
    },
    "papermill": {
     "duration": 0.025807,
     "end_time": "2024-05-09T08:54:43.837697",
     "exception": false,
     "start_time": "2024-05-09T08:54:43.811890",
     "status": "completed"
    },
    "tags": []
   },
   "outputs": [],
   "source": [
    "df0 = df00.loc[df00['Country Name'] == 'South Africa']"
   ]
  },
  {
   "cell_type": "code",
   "execution_count": 9,
   "id": "388e6d6f",
   "metadata": {
    "execution": {
     "iopub.execute_input": "2024-05-09T08:54:43.870980Z",
     "iopub.status.busy": "2024-05-09T08:54:43.869709Z",
     "iopub.status.idle": "2024-05-09T08:54:43.896718Z",
     "shell.execute_reply": "2024-05-09T08:54:43.895872Z"
    },
    "papermill": {
     "duration": 0.045867,
     "end_time": "2024-05-09T08:54:43.898905",
     "exception": false,
     "start_time": "2024-05-09T08:54:43.853038",
     "status": "completed"
    },
    "tags": []
   },
   "outputs": [
    {
     "data": {
      "text/html": [
       "<div>\n",
       "<style scoped>\n",
       "    .dataframe tbody tr th:only-of-type {\n",
       "        vertical-align: middle;\n",
       "    }\n",
       "\n",
       "    .dataframe tbody tr th {\n",
       "        vertical-align: top;\n",
       "    }\n",
       "\n",
       "    .dataframe thead th {\n",
       "        text-align: right;\n",
       "    }\n",
       "</style>\n",
       "<table border=\"1\" class=\"dataframe\">\n",
       "  <thead>\n",
       "    <tr style=\"text-align: right;\">\n",
       "      <th></th>\n",
       "      <th>0</th>\n",
       "      <th>1</th>\n",
       "      <th>2</th>\n",
       "      <th>3</th>\n",
       "      <th>4</th>\n",
       "      <th>5</th>\n",
       "      <th>6</th>\n",
       "      <th>7</th>\n",
       "      <th>8</th>\n",
       "      <th>9</th>\n",
       "      <th>10</th>\n",
       "      <th>11</th>\n",
       "      <th>12</th>\n",
       "      <th>13</th>\n",
       "      <th>14</th>\n",
       "      <th>15</th>\n",
       "      <th>16</th>\n",
       "      <th>17</th>\n",
       "      <th>18</th>\n",
       "    </tr>\n",
       "  </thead>\n",
       "  <tbody>\n",
       "    <tr>\n",
       "      <th>Country Name</th>\n",
       "      <td>South Africa</td>\n",
       "      <td>South Africa</td>\n",
       "      <td>South Africa</td>\n",
       "      <td>South Africa</td>\n",
       "      <td>South Africa</td>\n",
       "      <td>South Africa</td>\n",
       "      <td>South Africa</td>\n",
       "      <td>South Africa</td>\n",
       "      <td>South Africa</td>\n",
       "      <td>South Africa</td>\n",
       "      <td>South Africa</td>\n",
       "      <td>South Africa</td>\n",
       "      <td>South Africa</td>\n",
       "      <td>South Africa</td>\n",
       "      <td>South Africa</td>\n",
       "      <td>South Africa</td>\n",
       "      <td>South Africa</td>\n",
       "      <td>South Africa</td>\n",
       "      <td>South Africa</td>\n",
       "    </tr>\n",
       "    <tr>\n",
       "      <th>Country Code</th>\n",
       "      <td>ZAF</td>\n",
       "      <td>ZAF</td>\n",
       "      <td>ZAF</td>\n",
       "      <td>ZAF</td>\n",
       "      <td>ZAF</td>\n",
       "      <td>ZAF</td>\n",
       "      <td>ZAF</td>\n",
       "      <td>ZAF</td>\n",
       "      <td>ZAF</td>\n",
       "      <td>ZAF</td>\n",
       "      <td>ZAF</td>\n",
       "      <td>ZAF</td>\n",
       "      <td>ZAF</td>\n",
       "      <td>ZAF</td>\n",
       "      <td>ZAF</td>\n",
       "      <td>ZAF</td>\n",
       "      <td>ZAF</td>\n",
       "      <td>ZAF</td>\n",
       "      <td>ZAF</td>\n",
       "    </tr>\n",
       "    <tr>\n",
       "      <th>Series Code</th>\n",
       "      <td>EN.POP.DNST</td>\n",
       "      <td>SP.POP.TOTL</td>\n",
       "      <td>NY.GDP.MKTP.CD</td>\n",
       "      <td>NY.GDP.MKTP.KD.ZG</td>\n",
       "      <td>NY.GDP.PCAP.KD</td>\n",
       "      <td>EG.ELC.ACCS.ZS</td>\n",
       "      <td>EG.ELC.ACCS.RU.ZS</td>\n",
       "      <td>EG.ELC.ACCS.UR.ZS</td>\n",
       "      <td>EN.CO2.ETOT.ZS</td>\n",
       "      <td>EG.ELC.COAL.ZS</td>\n",
       "      <td>EG.ELC.HYRO.ZS</td>\n",
       "      <td>EG.ELC.NGAS.ZS</td>\n",
       "      <td>EG.ELC.NUCL.ZS</td>\n",
       "      <td>EG.ELC.PETR.ZS</td>\n",
       "      <td>EG.ELC.FOSL.ZS</td>\n",
       "      <td>EG.ELC.RNWX.ZS</td>\n",
       "      <td>EG.ELC.RNWX.KH</td>\n",
       "      <td>EG.ELC.RNEW.ZS</td>\n",
       "      <td>IC.ELC.TIME</td>\n",
       "    </tr>\n",
       "    <tr>\n",
       "      <th>2015 [YR2015]</th>\n",
       "      <td>45.6572612089787</td>\n",
       "      <td>55386367</td>\n",
       "      <td>317620522794.827</td>\n",
       "      <td>1.19373280124428</td>\n",
       "      <td>7556.78857882235</td>\n",
       "      <td>85.5</td>\n",
       "      <td>75.3635314242526</td>\n",
       "      <td>90.9994735717773</td>\n",
       "      <td>..</td>\n",
       "      <td>92.7112379223137</td>\n",
       "      <td>0.324638479994812</td>\n",
       "      <td>0</td>\n",
       "      <td>..</td>\n",
       "      <td>0.074168341871474</td>\n",
       "      <td>92.7854062641852</td>\n",
       "      <td>1.93040334608651</td>\n",
       "      <td>4763000000</td>\n",
       "      <td>2.25504182608132</td>\n",
       "      <td>84</td>\n",
       "    </tr>\n",
       "    <tr>\n",
       "      <th>2016 [YR2016]</th>\n",
       "      <td>46.3309845106299</td>\n",
       "      <td>56203654</td>\n",
       "      <td>296357282715.109</td>\n",
       "      <td>0.399087929556359</td>\n",
       "      <td>7476.62101155809</td>\n",
       "      <td>84.2</td>\n",
       "      <td>70.7157223672873</td>\n",
       "      <td>91.3525009155273</td>\n",
       "      <td>..</td>\n",
       "      <td>..</td>\n",
       "      <td>..</td>\n",
       "      <td>..</td>\n",
       "      <td>..</td>\n",
       "      <td>..</td>\n",
       "      <td>..</td>\n",
       "      <td>..</td>\n",
       "      <td>..</td>\n",
       "      <td>..</td>\n",
       "      <td>109</td>\n",
       "    </tr>\n",
       "    <tr>\n",
       "      <th>2017 [YR2017]</th>\n",
       "      <td>46.987817062213</td>\n",
       "      <td>57000451</td>\n",
       "      <td>349554116683.818</td>\n",
       "      <td>1.41451262585058</td>\n",
       "      <td>7476.38632385801</td>\n",
       "      <td>84.4</td>\n",
       "      <td>70.3145301045502</td>\n",
       "      <td>91.7047653198242</td>\n",
       "      <td>..</td>\n",
       "      <td>..</td>\n",
       "      <td>..</td>\n",
       "      <td>..</td>\n",
       "      <td>..</td>\n",
       "      <td>..</td>\n",
       "      <td>..</td>\n",
       "      <td>..</td>\n",
       "      <td>..</td>\n",
       "      <td>..</td>\n",
       "      <td>109</td>\n",
       "    </tr>\n",
       "    <tr>\n",
       "      <th>2018 [YR2018]</th>\n",
       "      <td>47.6301197767684</td>\n",
       "      <td>57779622</td>\n",
       "      <td>368288939768.322</td>\n",
       "      <td>0.787055570495099</td>\n",
       "      <td>7433.61539826952</td>\n",
       "      <td>91.2298736572266</td>\n",
       "      <td>89.5988191888486</td>\n",
       "      <td>92.0568923950195</td>\n",
       "      <td>..</td>\n",
       "      <td>..</td>\n",
       "      <td>..</td>\n",
       "      <td>..</td>\n",
       "      <td>..</td>\n",
       "      <td>..</td>\n",
       "      <td>..</td>\n",
       "      <td>..</td>\n",
       "      <td>..</td>\n",
       "      <td>..</td>\n",
       "      <td>109</td>\n",
       "    </tr>\n",
       "    <tr>\n",
       "      <th>2019 [YR2019]</th>\n",
       "      <td>..</td>\n",
       "      <td>58558270</td>\n",
       "      <td>351431649241.439</td>\n",
       "      <td>0.152583316664234</td>\n",
       "      <td>7345.96241792901</td>\n",
       "      <td>..</td>\n",
       "      <td>..</td>\n",
       "      <td>..</td>\n",
       "      <td>..</td>\n",
       "      <td>..</td>\n",
       "      <td>..</td>\n",
       "      <td>..</td>\n",
       "      <td>..</td>\n",
       "      <td>..</td>\n",
       "      <td>..</td>\n",
       "      <td>..</td>\n",
       "      <td>..</td>\n",
       "      <td>..</td>\n",
       "      <td>109</td>\n",
       "    </tr>\n",
       "  </tbody>\n",
       "</table>\n",
       "</div>"
      ],
      "text/plain": [
       "                             0             1                 2   \\\n",
       "Country Name       South Africa  South Africa      South Africa   \n",
       "Country Code                ZAF           ZAF               ZAF   \n",
       "Series Code         EN.POP.DNST   SP.POP.TOTL    NY.GDP.MKTP.CD   \n",
       "2015 [YR2015]  45.6572612089787      55386367  317620522794.827   \n",
       "2016 [YR2016]  46.3309845106299      56203654  296357282715.109   \n",
       "2017 [YR2017]   46.987817062213      57000451  349554116683.818   \n",
       "2018 [YR2018]  47.6301197767684      57779622  368288939768.322   \n",
       "2019 [YR2019]                ..      58558270  351431649241.439   \n",
       "\n",
       "                              3                 4                 5   \\\n",
       "Country Name        South Africa      South Africa      South Africa   \n",
       "Country Code                 ZAF               ZAF               ZAF   \n",
       "Series Code    NY.GDP.MKTP.KD.ZG    NY.GDP.PCAP.KD    EG.ELC.ACCS.ZS   \n",
       "2015 [YR2015]   1.19373280124428  7556.78857882235              85.5   \n",
       "2016 [YR2016]  0.399087929556359  7476.62101155809              84.2   \n",
       "2017 [YR2017]   1.41451262585058  7476.38632385801              84.4   \n",
       "2018 [YR2018]  0.787055570495099  7433.61539826952  91.2298736572266   \n",
       "2019 [YR2019]  0.152583316664234  7345.96241792901                ..   \n",
       "\n",
       "                              6                  7               8   \\\n",
       "Country Name        South Africa       South Africa    South Africa   \n",
       "Country Code                 ZAF                ZAF             ZAF   \n",
       "Series Code    EG.ELC.ACCS.RU.ZS  EG.ELC.ACCS.UR.ZS  EN.CO2.ETOT.ZS   \n",
       "2015 [YR2015]   75.3635314242526   90.9994735717773              ..   \n",
       "2016 [YR2016]   70.7157223672873   91.3525009155273              ..   \n",
       "2017 [YR2017]   70.3145301045502   91.7047653198242              ..   \n",
       "2018 [YR2018]   89.5988191888486   92.0568923950195              ..   \n",
       "2019 [YR2019]                 ..                 ..              ..   \n",
       "\n",
       "                             9                  10              11  \\\n",
       "Country Name       South Africa       South Africa    South Africa   \n",
       "Country Code                ZAF                ZAF             ZAF   \n",
       "Series Code      EG.ELC.COAL.ZS     EG.ELC.HYRO.ZS  EG.ELC.NGAS.ZS   \n",
       "2015 [YR2015]  92.7112379223137  0.324638479994812               0   \n",
       "2016 [YR2016]                ..                 ..              ..   \n",
       "2017 [YR2017]                ..                 ..              ..   \n",
       "2018 [YR2018]                ..                 ..              ..   \n",
       "2019 [YR2019]                ..                 ..              ..   \n",
       "\n",
       "                           12                 13                14  \\\n",
       "Country Name     South Africa       South Africa      South Africa   \n",
       "Country Code              ZAF                ZAF               ZAF   \n",
       "Series Code    EG.ELC.NUCL.ZS     EG.ELC.PETR.ZS    EG.ELC.FOSL.ZS   \n",
       "2015 [YR2015]              ..  0.074168341871474  92.7854062641852   \n",
       "2016 [YR2016]              ..                 ..                ..   \n",
       "2017 [YR2017]              ..                 ..                ..   \n",
       "2018 [YR2018]              ..                 ..                ..   \n",
       "2019 [YR2019]              ..                 ..                ..   \n",
       "\n",
       "                             15              16                17  \\\n",
       "Country Name       South Africa    South Africa      South Africa   \n",
       "Country Code                ZAF             ZAF               ZAF   \n",
       "Series Code      EG.ELC.RNWX.ZS  EG.ELC.RNWX.KH    EG.ELC.RNEW.ZS   \n",
       "2015 [YR2015]  1.93040334608651      4763000000  2.25504182608132   \n",
       "2016 [YR2016]                ..              ..                ..   \n",
       "2017 [YR2017]                ..              ..                ..   \n",
       "2018 [YR2018]                ..              ..                ..   \n",
       "2019 [YR2019]                ..              ..                ..   \n",
       "\n",
       "                         18  \n",
       "Country Name   South Africa  \n",
       "Country Code            ZAF  \n",
       "Series Code     IC.ELC.TIME  \n",
       "2015 [YR2015]            84  \n",
       "2016 [YR2016]           109  \n",
       "2017 [YR2017]           109  \n",
       "2018 [YR2018]           109  \n",
       "2019 [YR2019]           109  "
      ]
     },
     "execution_count": 9,
     "metadata": {},
     "output_type": "execute_result"
    }
   ],
   "source": [
    "df0.T"
   ]
  },
  {
   "cell_type": "markdown",
   "id": "b09ee8c6",
   "metadata": {
    "papermill": {
     "duration": 0.015903,
     "end_time": "2024-05-09T08:54:43.930676",
     "exception": false,
     "start_time": "2024-05-09T08:54:43.914773",
     "status": "completed"
    },
    "tags": []
   },
   "source": [
    "After we have filtered the data lets check if there are any null values"
   ]
  },
  {
   "cell_type": "code",
   "execution_count": 10,
   "id": "495cb8c8",
   "metadata": {
    "execution": {
     "iopub.execute_input": "2024-05-09T08:54:43.965473Z",
     "iopub.status.busy": "2024-05-09T08:54:43.964312Z",
     "iopub.status.idle": "2024-05-09T08:54:43.974029Z",
     "shell.execute_reply": "2024-05-09T08:54:43.972858Z"
    },
    "papermill": {
     "duration": 0.029525,
     "end_time": "2024-05-09T08:54:43.976677",
     "exception": false,
     "start_time": "2024-05-09T08:54:43.947152",
     "status": "completed"
    },
    "tags": []
   },
   "outputs": [
    {
     "data": {
      "text/plain": [
       "Country Name     0\n",
       "Country Code     0\n",
       "Series Code      0\n",
       "2015 [YR2015]    0\n",
       "2016 [YR2016]    0\n",
       "2017 [YR2017]    0\n",
       "2018 [YR2018]    0\n",
       "2019 [YR2019]    0\n",
       "dtype: int64"
      ]
     },
     "execution_count": 10,
     "metadata": {},
     "output_type": "execute_result"
    }
   ],
   "source": [
    "df0.isnull().sum()"
   ]
  },
  {
   "cell_type": "markdown",
   "id": "690dcc69",
   "metadata": {
    "papermill": {
     "duration": 0.01553,
     "end_time": "2024-05-09T08:54:44.008068",
     "exception": false,
     "start_time": "2024-05-09T08:54:43.992538",
     "status": "completed"
    },
    "tags": []
   },
   "source": [
    "There are no empty cells we can move to the 2nd data which is called df2 that represents Electricity Production"
   ]
  },
  {
   "cell_type": "markdown",
   "id": "f7163cb7",
   "metadata": {
    "papermill": {
     "duration": 0.015963,
     "end_time": "2024-05-09T08:54:44.040315",
     "exception": false,
     "start_time": "2024-05-09T08:54:44.024352",
     "status": "completed"
    },
    "tags": []
   },
   "source": [
    "**Lets check the first five rows of df2**"
   ]
  },
  {
   "cell_type": "code",
   "execution_count": 11,
   "id": "0ac04b72",
   "metadata": {
    "execution": {
     "iopub.execute_input": "2024-05-09T08:54:44.075081Z",
     "iopub.status.busy": "2024-05-09T08:54:44.074015Z",
     "iopub.status.idle": "2024-05-09T08:54:44.086745Z",
     "shell.execute_reply": "2024-05-09T08:54:44.085789Z"
    },
    "papermill": {
     "duration": 0.032984,
     "end_time": "2024-05-09T08:54:44.089324",
     "exception": false,
     "start_time": "2024-05-09T08:54:44.056340",
     "status": "completed"
    },
    "tags": []
   },
   "outputs": [
    {
     "data": {
      "text/html": [
       "<div>\n",
       "<style scoped>\n",
       "    .dataframe tbody tr th:only-of-type {\n",
       "        vertical-align: middle;\n",
       "    }\n",
       "\n",
       "    .dataframe tbody tr th {\n",
       "        vertical-align: top;\n",
       "    }\n",
       "\n",
       "    .dataframe thead th {\n",
       "        text-align: right;\n",
       "    }\n",
       "</style>\n",
       "<table border=\"1\" class=\"dataframe\">\n",
       "  <thead>\n",
       "    <tr style=\"text-align: right;\">\n",
       "      <th></th>\n",
       "      <th>DATE</th>\n",
       "      <th>PRENEL01ZAQ656N</th>\n",
       "    </tr>\n",
       "  </thead>\n",
       "  <tbody>\n",
       "    <tr>\n",
       "      <th>0</th>\n",
       "      <td>1985-01-01</td>\n",
       "      <td>11072.666667</td>\n",
       "    </tr>\n",
       "    <tr>\n",
       "      <th>1</th>\n",
       "      <td>1985-04-01</td>\n",
       "      <td>11879.666667</td>\n",
       "    </tr>\n",
       "    <tr>\n",
       "      <th>2</th>\n",
       "      <td>1985-07-01</td>\n",
       "      <td>12485.333333</td>\n",
       "    </tr>\n",
       "    <tr>\n",
       "      <th>3</th>\n",
       "      <td>1985-10-01</td>\n",
       "      <td>11690.333333</td>\n",
       "    </tr>\n",
       "    <tr>\n",
       "      <th>4</th>\n",
       "      <td>1986-01-01</td>\n",
       "      <td>11374.000000</td>\n",
       "    </tr>\n",
       "  </tbody>\n",
       "</table>\n",
       "</div>"
      ],
      "text/plain": [
       "         DATE  PRENEL01ZAQ656N\n",
       "0  1985-01-01     11072.666667\n",
       "1  1985-04-01     11879.666667\n",
       "2  1985-07-01     12485.333333\n",
       "3  1985-10-01     11690.333333\n",
       "4  1986-01-01     11374.000000"
      ]
     },
     "execution_count": 11,
     "metadata": {},
     "output_type": "execute_result"
    }
   ],
   "source": [
    "df2.head()"
   ]
  },
  {
   "cell_type": "markdown",
   "id": "4446ca9e",
   "metadata": {
    "papermill": {
     "duration": 0.016671,
     "end_time": "2024-05-09T08:54:44.122601",
     "exception": false,
     "start_time": "2024-05-09T08:54:44.105930",
     "status": "completed"
    },
    "tags": []
   },
   "source": [
    "Lets see the number of rows and colums on df2"
   ]
  },
  {
   "cell_type": "code",
   "execution_count": 12,
   "id": "93c0a1bd",
   "metadata": {
    "execution": {
     "iopub.execute_input": "2024-05-09T08:54:44.158427Z",
     "iopub.status.busy": "2024-05-09T08:54:44.157735Z",
     "iopub.status.idle": "2024-05-09T08:54:44.164213Z",
     "shell.execute_reply": "2024-05-09T08:54:44.163059Z"
    },
    "papermill": {
     "duration": 0.026827,
     "end_time": "2024-05-09T08:54:44.166551",
     "exception": false,
     "start_time": "2024-05-09T08:54:44.139724",
     "status": "completed"
    },
    "tags": []
   },
   "outputs": [
    {
     "data": {
      "text/plain": [
       "(135, 2)"
      ]
     },
     "execution_count": 12,
     "metadata": {},
     "output_type": "execute_result"
    }
   ],
   "source": [
    "df2.shape"
   ]
  },
  {
   "cell_type": "markdown",
   "id": "6ccf9ec8",
   "metadata": {
    "papermill": {
     "duration": 0.077928,
     "end_time": "2024-05-09T08:54:44.261333",
     "exception": false,
     "start_time": "2024-05-09T08:54:44.183405",
     "status": "completed"
    },
    "tags": []
   },
   "source": [
    "From the fist five rows we find that the data is from the year 1985 so lets check when does the date start and end"
   ]
  },
  {
   "cell_type": "code",
   "execution_count": 13,
   "id": "a27210cb",
   "metadata": {
    "execution": {
     "iopub.execute_input": "2024-05-09T08:54:44.296688Z",
     "iopub.status.busy": "2024-05-09T08:54:44.296191Z",
     "iopub.status.idle": "2024-05-09T08:54:44.306766Z",
     "shell.execute_reply": "2024-05-09T08:54:44.305595Z"
    },
    "papermill": {
     "duration": 0.031025,
     "end_time": "2024-05-09T08:54:44.309230",
     "exception": false,
     "start_time": "2024-05-09T08:54:44.278205",
     "status": "completed"
    },
    "tags": []
   },
   "outputs": [
    {
     "data": {
      "text/plain": [
       "array(['1985-01-01', '1985-04-01', '1985-07-01', '1985-10-01',\n",
       "       '1986-01-01', '1986-04-01', '1986-07-01', '1986-10-01',\n",
       "       '1987-01-01', '1987-04-01', '1987-07-01', '1987-10-01',\n",
       "       '1988-01-01', '1988-04-01', '1988-07-01', '1988-10-01',\n",
       "       '1989-01-01', '1989-04-01', '1989-07-01', '1989-10-01',\n",
       "       '1990-01-01', '1990-04-01', '1990-07-01', '1990-10-01',\n",
       "       '1991-01-01', '1991-04-01', '1991-07-01', '1991-10-01',\n",
       "       '1992-01-01', '1992-04-01', '1992-07-01', '1992-10-01',\n",
       "       '1993-01-01', '1993-04-01', '1993-07-01', '1993-10-01',\n",
       "       '1994-01-01', '1994-04-01', '1994-07-01', '1994-10-01',\n",
       "       '1995-01-01', '1995-04-01', '1995-07-01', '1995-10-01',\n",
       "       '1996-01-01', '1996-04-01', '1996-07-01', '1996-10-01',\n",
       "       '1997-01-01', '1997-04-01', '1997-07-01', '1997-10-01',\n",
       "       '1998-01-01', '1998-04-01', '1998-07-01', '1998-10-01',\n",
       "       '1999-01-01', '1999-04-01', '1999-07-01', '1999-10-01',\n",
       "       '2000-01-01', '2000-04-01', '2000-07-01', '2000-10-01',\n",
       "       '2001-01-01', '2001-04-01', '2001-07-01', '2001-10-01',\n",
       "       '2002-01-01', '2002-04-01', '2002-07-01', '2002-10-01',\n",
       "       '2003-01-01', '2003-04-01', '2003-07-01', '2003-10-01',\n",
       "       '2004-01-01', '2004-04-01', '2004-07-01', '2004-10-01',\n",
       "       '2005-01-01', '2005-04-01', '2005-07-01', '2005-10-01',\n",
       "       '2006-01-01', '2006-04-01', '2006-07-01', '2006-10-01',\n",
       "       '2007-01-01', '2007-04-01', '2007-07-01', '2007-10-01',\n",
       "       '2008-01-01', '2008-04-01', '2008-07-01', '2008-10-01',\n",
       "       '2009-01-01', '2009-04-01', '2009-07-01', '2009-10-01',\n",
       "       '2010-01-01', '2010-04-01', '2010-07-01', '2010-10-01',\n",
       "       '2011-01-01', '2011-04-01', '2011-07-01', '2011-10-01',\n",
       "       '2012-01-01', '2012-04-01', '2012-07-01', '2012-10-01',\n",
       "       '2013-01-01', '2013-04-01', '2013-07-01', '2013-10-01',\n",
       "       '2014-01-01', '2014-04-01', '2014-07-01', '2014-10-01',\n",
       "       '2015-01-01', '2015-04-01', '2015-07-01', '2015-10-01',\n",
       "       '2016-01-01', '2016-04-01', '2016-07-01', '2016-10-01',\n",
       "       '2017-01-01', '2017-04-01', '2017-07-01', '2017-10-01',\n",
       "       '2018-01-01', '2018-04-01', '2018-07-01'], dtype=object)"
      ]
     },
     "execution_count": 13,
     "metadata": {},
     "output_type": "execute_result"
    }
   ],
   "source": [
    "df2['DATE'].unique()"
   ]
  },
  {
   "cell_type": "markdown",
   "id": "a97a5c63",
   "metadata": {
    "papermill": {
     "duration": 0.016648,
     "end_time": "2024-05-09T08:54:44.343680",
     "exception": false,
     "start_time": "2024-05-09T08:54:44.327032",
     "status": "completed"
    },
    "tags": []
   },
   "source": [
    "Now lets filter the data from 2015 to the recent date available"
   ]
  },
  {
   "cell_type": "code",
   "execution_count": 14,
   "id": "f8396109",
   "metadata": {
    "execution": {
     "iopub.execute_input": "2024-05-09T08:54:44.379459Z",
     "iopub.status.busy": "2024-05-09T08:54:44.379055Z",
     "iopub.status.idle": "2024-05-09T08:54:44.386277Z",
     "shell.execute_reply": "2024-05-09T08:54:44.385237Z"
    },
    "papermill": {
     "duration": 0.027998,
     "end_time": "2024-05-09T08:54:44.388683",
     "exception": false,
     "start_time": "2024-05-09T08:54:44.360685",
     "status": "completed"
    },
    "tags": []
   },
   "outputs": [],
   "source": [
    "df_2 = df2[ df2['DATE'] >= '2015-01-01' ]"
   ]
  },
  {
   "cell_type": "code",
   "execution_count": 15,
   "id": "adf0d2d6",
   "metadata": {
    "execution": {
     "iopub.execute_input": "2024-05-09T08:54:44.426071Z",
     "iopub.status.busy": "2024-05-09T08:54:44.425180Z",
     "iopub.status.idle": "2024-05-09T08:54:44.437112Z",
     "shell.execute_reply": "2024-05-09T08:54:44.436196Z"
    },
    "papermill": {
     "duration": 0.033584,
     "end_time": "2024-05-09T08:54:44.439466",
     "exception": false,
     "start_time": "2024-05-09T08:54:44.405882",
     "status": "completed"
    },
    "tags": []
   },
   "outputs": [
    {
     "data": {
      "text/html": [
       "<div>\n",
       "<style scoped>\n",
       "    .dataframe tbody tr th:only-of-type {\n",
       "        vertical-align: middle;\n",
       "    }\n",
       "\n",
       "    .dataframe tbody tr th {\n",
       "        vertical-align: top;\n",
       "    }\n",
       "\n",
       "    .dataframe thead th {\n",
       "        text-align: right;\n",
       "    }\n",
       "</style>\n",
       "<table border=\"1\" class=\"dataframe\">\n",
       "  <thead>\n",
       "    <tr style=\"text-align: right;\">\n",
       "      <th></th>\n",
       "      <th>DATE</th>\n",
       "      <th>PRENEL01ZAQ656N</th>\n",
       "    </tr>\n",
       "  </thead>\n",
       "  <tbody>\n",
       "    <tr>\n",
       "      <th>120</th>\n",
       "      <td>2015-01-01</td>\n",
       "      <td>20714.666667</td>\n",
       "    </tr>\n",
       "    <tr>\n",
       "      <th>121</th>\n",
       "      <td>2015-04-01</td>\n",
       "      <td>20882.000000</td>\n",
       "    </tr>\n",
       "    <tr>\n",
       "      <th>122</th>\n",
       "      <td>2015-07-01</td>\n",
       "      <td>21197.000000</td>\n",
       "    </tr>\n",
       "    <tr>\n",
       "      <th>123</th>\n",
       "      <td>2015-10-01</td>\n",
       "      <td>20589.000000</td>\n",
       "    </tr>\n",
       "    <tr>\n",
       "      <th>124</th>\n",
       "      <td>2016-01-01</td>\n",
       "      <td>20469.333333</td>\n",
       "    </tr>\n",
       "    <tr>\n",
       "      <th>125</th>\n",
       "      <td>2016-04-01</td>\n",
       "      <td>21064.000000</td>\n",
       "    </tr>\n",
       "    <tr>\n",
       "      <th>126</th>\n",
       "      <td>2016-07-01</td>\n",
       "      <td>21761.666667</td>\n",
       "    </tr>\n",
       "    <tr>\n",
       "      <th>127</th>\n",
       "      <td>2016-10-01</td>\n",
       "      <td>20954.000000</td>\n",
       "    </tr>\n",
       "    <tr>\n",
       "      <th>128</th>\n",
       "      <td>2017-01-01</td>\n",
       "      <td>20448.333333</td>\n",
       "    </tr>\n",
       "    <tr>\n",
       "      <th>129</th>\n",
       "      <td>2017-04-01</td>\n",
       "      <td>21558.666667</td>\n",
       "    </tr>\n",
       "    <tr>\n",
       "      <th>130</th>\n",
       "      <td>2017-07-01</td>\n",
       "      <td>21765.666667</td>\n",
       "    </tr>\n",
       "    <tr>\n",
       "      <th>131</th>\n",
       "      <td>2017-10-01</td>\n",
       "      <td>21262.000000</td>\n",
       "    </tr>\n",
       "    <tr>\n",
       "      <th>132</th>\n",
       "      <td>2018-01-01</td>\n",
       "      <td>20823.000000</td>\n",
       "    </tr>\n",
       "    <tr>\n",
       "      <th>133</th>\n",
       "      <td>2018-04-01</td>\n",
       "      <td>21483.666667</td>\n",
       "    </tr>\n",
       "    <tr>\n",
       "      <th>134</th>\n",
       "      <td>2018-07-01</td>\n",
       "      <td>21837.333333</td>\n",
       "    </tr>\n",
       "  </tbody>\n",
       "</table>\n",
       "</div>"
      ],
      "text/plain": [
       "           DATE  PRENEL01ZAQ656N\n",
       "120  2015-01-01     20714.666667\n",
       "121  2015-04-01     20882.000000\n",
       "122  2015-07-01     21197.000000\n",
       "123  2015-10-01     20589.000000\n",
       "124  2016-01-01     20469.333333\n",
       "125  2016-04-01     21064.000000\n",
       "126  2016-07-01     21761.666667\n",
       "127  2016-10-01     20954.000000\n",
       "128  2017-01-01     20448.333333\n",
       "129  2017-04-01     21558.666667\n",
       "130  2017-07-01     21765.666667\n",
       "131  2017-10-01     21262.000000\n",
       "132  2018-01-01     20823.000000\n",
       "133  2018-04-01     21483.666667\n",
       "134  2018-07-01     21837.333333"
      ]
     },
     "execution_count": 15,
     "metadata": {},
     "output_type": "execute_result"
    }
   ],
   "source": [
    "df_2"
   ]
  },
  {
   "cell_type": "markdown",
   "id": "3a1dddb6",
   "metadata": {
    "papermill": {
     "duration": 0.017182,
     "end_time": "2024-05-09T08:54:44.473898",
     "exception": false,
     "start_time": "2024-05-09T08:54:44.456716",
     "status": "completed"
    },
    "tags": []
   },
   "source": [
    "lets check if there are any empty cells"
   ]
  },
  {
   "cell_type": "code",
   "execution_count": 16,
   "id": "a944392d",
   "metadata": {
    "execution": {
     "iopub.execute_input": "2024-05-09T08:54:44.510641Z",
     "iopub.status.busy": "2024-05-09T08:54:44.509950Z",
     "iopub.status.idle": "2024-05-09T08:54:44.519098Z",
     "shell.execute_reply": "2024-05-09T08:54:44.517956Z"
    },
    "papermill": {
     "duration": 0.029958,
     "end_time": "2024-05-09T08:54:44.521555",
     "exception": false,
     "start_time": "2024-05-09T08:54:44.491597",
     "status": "completed"
    },
    "tags": []
   },
   "outputs": [
    {
     "data": {
      "text/plain": [
       "DATE               0\n",
       "PRENEL01ZAQ656N    0\n",
       "dtype: int64"
      ]
     },
     "execution_count": 16,
     "metadata": {},
     "output_type": "execute_result"
    }
   ],
   "source": [
    "df_2.isnull().sum()"
   ]
  },
  {
   "cell_type": "markdown",
   "id": "7d80bc3e",
   "metadata": {
    "papermill": {
     "duration": 0.017185,
     "end_time": "2024-05-09T08:54:44.556390",
     "exception": false,
     "start_time": "2024-05-09T08:54:44.539205",
     "status": "completed"
    },
    "tags": []
   },
   "source": [
    "There are no empty cells therefore we can move to the final dataset"
   ]
  },
  {
   "cell_type": "markdown",
   "id": "d601e3c6",
   "metadata": {
    "papermill": {
     "duration": 0.016881,
     "end_time": "2024-05-09T08:54:44.590598",
     "exception": false,
     "start_time": "2024-05-09T08:54:44.573717",
     "status": "completed"
    },
    "tags": []
   },
   "source": [
    "**For this data lets check the sample of 5 random rows**"
   ]
  },
  {
   "cell_type": "code",
   "execution_count": 17,
   "id": "d9bec29e",
   "metadata": {
    "execution": {
     "iopub.execute_input": "2024-05-09T08:54:44.627464Z",
     "iopub.status.busy": "2024-05-09T08:54:44.626784Z",
     "iopub.status.idle": "2024-05-09T08:54:44.638889Z",
     "shell.execute_reply": "2024-05-09T08:54:44.637923Z"
    },
    "papermill": {
     "duration": 0.033419,
     "end_time": "2024-05-09T08:54:44.641328",
     "exception": false,
     "start_time": "2024-05-09T08:54:44.607909",
     "status": "completed"
    },
    "tags": []
   },
   "outputs": [
    {
     "data": {
      "text/html": [
       "<div>\n",
       "<style scoped>\n",
       "    .dataframe tbody tr th:only-of-type {\n",
       "        vertical-align: middle;\n",
       "    }\n",
       "\n",
       "    .dataframe tbody tr th {\n",
       "        vertical-align: top;\n",
       "    }\n",
       "\n",
       "    .dataframe thead th {\n",
       "        text-align: right;\n",
       "    }\n",
       "</style>\n",
       "<table border=\"1\" class=\"dataframe\">\n",
       "  <thead>\n",
       "    <tr style=\"text-align: right;\">\n",
       "      <th></th>\n",
       "      <th>created_at</th>\n",
       "      <th>stage</th>\n",
       "    </tr>\n",
       "  </thead>\n",
       "  <tbody>\n",
       "    <tr>\n",
       "      <th>213</th>\n",
       "      <td>7/22/2015 17:02:26</td>\n",
       "      <td>1</td>\n",
       "    </tr>\n",
       "    <tr>\n",
       "      <th>255</th>\n",
       "      <td>6/20/2015 17:08:55</td>\n",
       "      <td>1</td>\n",
       "    </tr>\n",
       "    <tr>\n",
       "      <th>188</th>\n",
       "      <td>8/8/2015 16:58:18</td>\n",
       "      <td>1</td>\n",
       "    </tr>\n",
       "    <tr>\n",
       "      <th>105</th>\n",
       "      <td>11/7/2019 22:00:29</td>\n",
       "      <td>2</td>\n",
       "    </tr>\n",
       "    <tr>\n",
       "      <th>23</th>\n",
       "      <td>8/14/2020 19:31:25</td>\n",
       "      <td>0</td>\n",
       "    </tr>\n",
       "  </tbody>\n",
       "</table>\n",
       "</div>"
      ],
      "text/plain": [
       "             created_at  stage\n",
       "213  7/22/2015 17:02:26      1\n",
       "255  6/20/2015 17:08:55      1\n",
       "188   8/8/2015 16:58:18      1\n",
       "105  11/7/2019 22:00:29      2\n",
       "23   8/14/2020 19:31:25      0"
      ]
     },
     "execution_count": 17,
     "metadata": {},
     "output_type": "execute_result"
    }
   ],
   "source": [
    "df3.sample(5)"
   ]
  },
  {
   "cell_type": "markdown",
   "id": "30200a1b",
   "metadata": {
    "papermill": {
     "duration": 0.01727,
     "end_time": "2024-05-09T08:54:44.676614",
     "exception": false,
     "start_time": "2024-05-09T08:54:44.659344",
     "status": "completed"
    },
    "tags": []
   },
   "source": [
    "lets check when does the date starts and end"
   ]
  },
  {
   "cell_type": "code",
   "execution_count": 18,
   "id": "6b3831a5",
   "metadata": {
    "execution": {
     "iopub.execute_input": "2024-05-09T08:54:44.714291Z",
     "iopub.status.busy": "2024-05-09T08:54:44.713231Z",
     "iopub.status.idle": "2024-05-09T08:54:44.724076Z",
     "shell.execute_reply": "2024-05-09T08:54:44.723111Z"
    },
    "papermill": {
     "duration": 0.032339,
     "end_time": "2024-05-09T08:54:44.726498",
     "exception": false,
     "start_time": "2024-05-09T08:54:44.694159",
     "status": "completed"
    },
    "tags": []
   },
   "outputs": [
    {
     "data": {
      "text/plain": [
       "array(['9/7/2020 20:03:18', '9/7/2020 14:00:22', '9/7/2020 6:00:53',\n",
       "       '9/6/2020 18:16:14', '9/6/2020 10:00:25', '9/6/2020 6:00:50',\n",
       "       '9/5/2020 20:00:31', '9/5/2020 6:00:18', '9/4/2020 19:12:05',\n",
       "       '9/4/2020 6:01:47', '9/3/2020 20:04:09', '9/3/2020 6:00:35',\n",
       "       '9/2/2020 20:21:48', '9/2/2020 13:00:13', '9/2/2020 6:00:50',\n",
       "       '9/1/2020 20:00:23', '9/1/2020 10:00:34', '8/20/2020 20:00:04',\n",
       "       '8/20/2020 7:02:58', '8/19/2020 20:00:55', '8/19/2020 7:00:20',\n",
       "       '8/18/2020 19:56:07', '8/18/2020 14:01:02', '8/14/2020 19:31:25',\n",
       "       '8/14/2020 15:00:49', '8/14/2020 5:59:58', '8/13/2020 20:02:24',\n",
       "       '8/13/2020 5:55:23', '7/16/2020 19:15:17', '7/16/2020 12:00:23',\n",
       "       '7/16/2020 7:00:32', '7/15/2020 19:50:37', '7/15/2020 12:01:40',\n",
       "       '7/15/2020 7:00:28', '7/14/2020 19:57:28', '7/14/2020 7:03:33',\n",
       "       '7/13/2020 20:01:22', '7/13/2020 7:00:26', '7/12/2020 20:00:55',\n",
       "       '7/12/2020 18:00:42', '7/12/2020 5:59:43', '7/11/2020 20:34:30',\n",
       "       '7/11/2020 7:04:40', '7/10/2020 20:16:19', '7/10/2020 10:16:09',\n",
       "       '3/15/2020 12:00:56', '3/15/2020 7:00:24', '3/14/2020 23:00:39',\n",
       "       '3/14/2020 12:12:09', '3/14/2020 7:02:55', '3/13/2020 23:00:59',\n",
       "       '3/13/2020 14:41:59', '3/11/2020 9:53:28', '3/10/2020 22:59:58',\n",
       "       '3/10/2020 14:01:13', '3/10/2020 9:00:02', '3/10/2020 7:16:05',\n",
       "       '3/10/2020 5:00:38', '3/9/2020 8:59:46', '2/22/2020 17:00:21',\n",
       "       '2/20/2020 8:58:31', '2/16/2020 21:00:02', '2/16/2020 9:15:24',\n",
       "       '2/15/2020 8:58:37', '2/14/2020 21:10:13', '2/11/2020 21:00:53',\n",
       "       '2/11/2020 9:00:50', '2/11/2020 6:00:08', '2/10/2020 9:01:42',\n",
       "       '2/9/2020 20:53:57', '2/4/2020 8:56:41', '2/4/2020 6:00:08',\n",
       "       '2/3/2020 18:02:07', '2/3/2020 16:01:11', '2/3/2020 8:55:17',\n",
       "       '2/3/2020 6:36:18', '1/31/2020 9:02:06', '1/31/2020 6:01:23',\n",
       "       '1/30/2020 21:00:54', '1/10/2020 22:57:22', '1/10/2020 6:01:15',\n",
       "       '1/8/2020 20:57:43', '1/8/2020 6:01:48', '1/8/2020 0:59:18',\n",
       "       '1/5/2020 23:00:14', '1/4/2020 21:56:40', '12/13/2019 21:00:53',\n",
       "       '12/13/2019 15:59:55', '12/13/2019 9:01:03', '12/12/2019 22:55:46',\n",
       "       '12/11/2019 9:50:05', '12/11/2019 9:40:00', '12/10/2019 20:58:48',\n",
       "       '12/10/2019 20:00:29', '12/9/2019 22:02:19', '12/9/2019 18:06:17',\n",
       "       '12/9/2019 10:00:48', '12/8/2019 9:00:06', '12/7/2019 22:51:31',\n",
       "       '12/6/2019 23:01:37', '12/6/2019 14:07:42', '12/6/2019 9:02:14',\n",
       "       '12/6/2019 7:04:27', '12/5/2019 16:00:38', '11/8/2019 5:00:32',\n",
       "       '11/7/2019 22:00:29', '10/19/2019 22:59:56', '10/19/2019 8:58:02',\n",
       "       '10/18/2019 23:03:14', '10/18/2019 12:00:38', '10/18/2019 8:47:24',\n",
       "       '10/17/2019 23:01:04', '10/17/2019 9:00:24', '10/16/2019 23:00:12',\n",
       "       '10/16/2019 8:59:53', '3/23/2019 22:31:35', '3/23/2019 21:25:28',\n",
       "       '3/23/2019 9:13:23', '3/22/2019 23:00:20', '3/22/2019 8:59:35',\n",
       "       '3/21/2019 23:41:58', '3/21/2019 8:59:19', '3/20/2019 23:01:07',\n",
       "       '3/20/2019 8:55:24', '3/19/2019 23:00:15', '3/19/2019 9:00:31',\n",
       "       '3/19/2019 8:09:45', '3/18/2019 9:00:17', '3/17/2019 22:55:32',\n",
       "       '3/17/2019 7:37:32', '3/16/2019 22:56:38', '3/16/2019 12:23:41',\n",
       "       '3/16/2019 10:03:00', '3/16/2019 8:02:42', '3/15/2019 23:02:47',\n",
       "       '3/15/2019 8:05:14', '3/14/2019 23:18:34', '3/14/2019 15:00:46',\n",
       "       '3/14/2019 11:01:53', '2/14/2019 22:03:16', '2/14/2019 8:00:48',\n",
       "       '2/13/2019 21:55:09', '2/13/2019 8:00:10', '2/12/2019 22:28:44',\n",
       "       '2/12/2019 8:00:53', '2/11/2019 23:06:27', '2/11/2019 13:03:27',\n",
       "       '2/11/2019 9:01:41', '2/10/2019 22:02:05', '2/10/2019 13:02:33',\n",
       "       '12/8/2018 21:41:27', '12/8/2018 10:15:38', '12/7/2018 21:39:22',\n",
       "       '12/7/2018 9:00:07', '12/6/2018 20:58:13', '12/6/2018 20:27:27',\n",
       "       '12/6/2018 9:00:40', '12/5/2018 21:33:41', '12/5/2018 20:57:44',\n",
       "       '12/5/2018 9:01:04', '12/4/2018 21:30:24', '12/4/2018 21:01:18',\n",
       "       '12/4/2018 9:00:45', '12/3/2018 21:08:25', '12/3/2018 20:17:47',\n",
       "       '12/3/2018 9:56:54', '12/2/2018 20:49:58', '12/2/2018 20:25:42',\n",
       "       '12/2/2018 8:01:56', '12/1/2018 21:24:43', '12/1/2018 20:55:36',\n",
       "       '12/1/2018 16:07:08', '12/1/2018 9:01:25', '11/30/2018 21:01:22',\n",
       "       '11/30/2018 9:00:07', '11/29/2018 21:07:57', '11/29/2018 12:06:02',\n",
       "       '11/18/2018 20:51:56', '11/18/2018 12:42:06', '6/16/2018 21:05:52',\n",
       "       '6/16/2018 17:02:17', '6/15/2018 19:31:29', '6/15/2018 11:32:16',\n",
       "       '6/14/2018 20:03:07', '6/14/2018 17:52:52', '9/14/2015 21:25:09',\n",
       "       '9/14/2015 19:01:03', '8/8/2015 21:01:20', '8/8/2015 16:58:18',\n",
       "       '8/6/2015 21:57:52', '8/6/2015 16:58:54', '8/6/2015 12:01:29',\n",
       "       '8/6/2015 6:43:57', '8/5/2015 22:02:05', '8/5/2015 17:10:37',\n",
       "       '8/4/2015 21:59:12', '8/4/2015 17:02:46', '8/3/2015 21:57:21',\n",
       "       '8/3/2015 17:01:21', '7/30/2015 22:00:40', '7/30/2015 17:17:16',\n",
       "       '7/29/2015 22:02:10', '7/29/2015 16:55:45', '7/26/2015 21:18:44',\n",
       "       '7/26/2015 8:32:17', '7/25/2015 21:55:31', '7/25/2015 8:21:21',\n",
       "       '7/24/2015 22:04:01', '7/24/2015 16:56:15', '7/24/2015 11:55:58',\n",
       "       '7/23/2015 22:04:45', '7/23/2015 17:03:52', '7/22/2015 22:01:53',\n",
       "       '7/22/2015 17:02:26', '7/21/2015 22:02:08', '7/21/2015 17:02:35',\n",
       "       '7/20/2015 22:04:34', '7/20/2015 17:03:33', '7/19/2015 22:01:29',\n",
       "       '7/19/2015 8:01:17', '7/17/2015 5:06:09', '7/16/2015 17:02:23',\n",
       "       '7/15/2015 22:02:09', '7/15/2015 17:52:55', '7/15/2015 8:31:48',\n",
       "       '7/14/2015 22:01:26', '7/14/2015 17:26:11', '7/10/2015 13:47:03',\n",
       "       '7/10/2015 8:35:09', '7/9/2015 22:02:07', '7/9/2015 17:01:50',\n",
       "       '6/29/2015 22:01:26', '6/29/2015 17:01:08', '6/28/2015 22:00:52',\n",
       "       '6/28/2015 8:02:37', '6/27/2015 22:01:31', '6/27/2015 17:02:03',\n",
       "       '6/26/2015 22:02:13', '6/26/2015 16:24:50', '6/25/2015 22:00:41',\n",
       "       '6/25/2015 16:02:38', '6/25/2015 15:05:54', '6/24/2015 22:01:29',\n",
       "       '6/24/2015 16:12:08', '6/23/2015 22:01:11', '6/23/2015 16:15:22',\n",
       "       '6/22/2015 22:01:15', '6/22/2015 16:59:12', '6/22/2015 16:01:17',\n",
       "       '6/21/2015 21:22:30', '6/21/2015 17:03:02', '6/20/2015 21:03:50',\n",
       "       '6/20/2015 18:56:15', '6/20/2015 18:18:49', '6/20/2015 17:34:10',\n",
       "       '6/20/2015 17:08:55', '6/19/2015 21:29:48', '6/19/2015 17:28:32',\n",
       "       '6/18/2015 22:03:07', '6/18/2015 16:03:47', '6/17/2015 22:02:38',\n",
       "       '6/17/2015 17:45:00', '6/14/2015 21:57:19', '6/14/2015 17:02:17',\n",
       "       '6/12/2015 22:02:11', '6/12/2015 8:23:05', '6/12/2015 6:19:18',\n",
       "       '6/11/2015 21:52:38', '6/11/2015 16:20:05', '6/11/2015 9:40:46',\n",
       "       '6/10/2015 21:56:40', '6/10/2015 16:16:31', '6/10/2015 16:11:53',\n",
       "       '6/9/2015 21:20:16', '6/9/2015 16:59:59', '6/8/2015 21:38:27',\n",
       "       '6/8/2015 17:58:47', '6/8/2015 17:01:04', '6/7/2015 21:34:35',\n",
       "       '6/7/2015 17:01:28', '5/27/2015 20:50:23', '5/27/2015 17:00:50',\n",
       "       '5/26/2015 22:03:26', '5/26/2015 17:01:00', '5/25/2015 21:47:34',\n",
       "       '5/25/2015 17:44:32', '5/24/2015 20:19:57', '5/24/2015 7:00:46',\n",
       "       '5/23/2015 21:50:58', '5/23/2015 7:03:23', '5/22/2015 21:53:43',\n",
       "       '5/22/2015 12:01:53', '5/22/2015 6:32:56', '5/21/2015 22:01:01',\n",
       "       '5/21/2015 14:11:07', '5/21/2015 8:01:42', '5/20/2015 22:00:27',\n",
       "       '5/20/2015 17:01:13', '5/20/2015 16:01:34', '5/19/2015 23:31:04',\n",
       "       '5/19/2015 23:19:45', '5/19/2015 22:00:29', '5/19/2015 17:04:39',\n",
       "       '5/19/2015 16:03:02', '5/18/2015 22:02:09', '5/18/2015 17:03:24',\n",
       "       '5/18/2015 16:08:21', '5/17/2015 21:47:08', '5/17/2015 12:03:43',\n",
       "       '5/17/2015 7:04:26', '5/16/2015 21:40:48', '5/16/2015 8:19:03',\n",
       "       '5/15/2015 22:03:50', '5/15/2015 17:02:46', '5/14/2015 22:01:17',\n",
       "       '5/14/2015 17:06:11', '5/14/2015 16:07:27', '5/13/2015 21:47:12',\n",
       "       '5/13/2015 16:18:12', '5/13/2015 6:27:24', '5/12/2015 16:01:03',\n",
       "       '5/12/2015 6:38:56', '5/11/2015 17:31:20', '5/11/2015 16:39:28',\n",
       "       '5/10/2015 21:53:41', '5/10/2015 9:59:20', '5/10/2015 9:58:12',\n",
       "       '5/10/2015 7:02:22', '5/10/2015 5:46:30', '5/9/2015 22:03:57',\n",
       "       '5/9/2015 22:02:53', '5/9/2015 21:10:41', '5/9/2015 12:01:08',\n",
       "       '5/9/2015 9:16:15', '5/8/2015 20:52:59', '5/8/2015 10:10:33',\n",
       "       '5/7/2015 21:35:54', '5/7/2015 16:59:44', '5/7/2015 8:39:13',\n",
       "       '5/6/2015 21:44:25', '5/6/2015 18:06:03', '5/6/2015 16:18:11',\n",
       "       '5/5/2015 21:21:10', '5/5/2015 17:07:16', '5/4/2015 21:27:55',\n",
       "       '5/4/2015 17:02:00', '5/3/2015 19:52:04', '5/3/2015 16:59:24',\n",
       "       '4/29/2015 20:37:30', '4/29/2015 18:02:12', '4/23/2015 21:41:56',\n",
       "       '4/23/2015 20:12:34', '4/23/2015 18:00:11', '4/23/2015 17:00:10',\n",
       "       '4/22/2015 21:46:45', '4/22/2015 16:59:00', '4/21/2015 21:49:12',\n",
       "       '4/21/2015 17:03:05', '4/20/2015 21:50:48', '4/20/2015 17:04:51',\n",
       "       '4/19/2015 21:11:44', '4/19/2015 8:07:47', '4/18/2015 21:46:17',\n",
       "       '4/18/2015 9:26:21', '4/17/2015 22:39:21', '4/17/2015 10:01:13',\n",
       "       '4/17/2015 5:58:02', '4/16/2015 22:03:03', '4/16/2015 19:06:22',\n",
       "       '4/16/2015 5:59:56', '4/15/2015 21:18:22', '4/15/2015 16:05:32',\n",
       "       '4/15/2015 7:43:26', '4/14/2015 22:02:37', '4/14/2015 20:57:14',\n",
       "       '4/14/2015 18:01:35', '4/14/2015 6:35:38', '4/13/2015 22:14:40',\n",
       "       '4/13/2015 16:00:50', '4/12/2015 22:01:24', '4/12/2015 10:03:25',\n",
       "       '4/7/2015 21:01:14', '4/7/2015 16:35:21', '3/26/2015 22:00:11',\n",
       "       '3/26/2015 12:00:49', '3/25/2015 22:01:10', '3/25/2015 16:09:56',\n",
       "       '3/25/2015 16:02:58', '3/21/2015 21:01:31', '3/21/2015 18:41:58',\n",
       "       '3/21/2015 9:02:44', '2/26/2015 10:11:34', '2/22/2015 20:54:49',\n",
       "       '2/22/2015 16:24:17', '2/21/2015 22:01:36', '2/21/2015 8:02:04',\n",
       "       '2/15/2015 21:59:25', '2/15/2015 12:00:57', '2/15/2015 8:00:46',\n",
       "       '2/14/2015 22:07:15', '2/14/2015 21:43:52', '2/14/2015 8:01:21',\n",
       "       '2/11/2015 22:48:17', '2/11/2015 18:14:27', '2/11/2015 14:13:57',\n",
       "       '2/10/2015 22:01:15', '2/10/2015 18:00:21', '2/9/2015 22:03:28',\n",
       "       '2/9/2015 16:01:14', '2/8/2015 22:10:46', '2/8/2015 8:01:35',\n",
       "       '2/7/2015 22:03:20', '2/7/2015 8:06:06', '2/6/2015 22:04:02',\n",
       "       '2/6/2015 8:05:00', '2/6/2015 7:00:07', '2/5/2015 16:12:33',\n",
       "       '2/5/2015 8:00:56', '2/5/2015 7:00:24', '2/4/2015 14:45:34',\n",
       "       '1/26/2015 15:50:32', '1/9/2015 11:47:19'], dtype=object)"
      ]
     },
     "execution_count": 18,
     "metadata": {},
     "output_type": "execute_result"
    }
   ],
   "source": [
    "df3['created_at'].unique()"
   ]
  },
  {
   "cell_type": "markdown",
   "id": "2e525c6f",
   "metadata": {
    "papermill": {
     "duration": 0.01861,
     "end_time": "2024-05-09T08:54:44.763107",
     "exception": false,
     "start_time": "2024-05-09T08:54:44.744497",
     "status": "completed"
    },
    "tags": []
   },
   "source": [
    "the data starts from 2015 now lets check if there are any empty cells"
   ]
  },
  {
   "cell_type": "code",
   "execution_count": 19,
   "id": "1ef78de7",
   "metadata": {
    "execution": {
     "iopub.execute_input": "2024-05-09T08:54:44.801441Z",
     "iopub.status.busy": "2024-05-09T08:54:44.801021Z",
     "iopub.status.idle": "2024-05-09T08:54:44.811446Z",
     "shell.execute_reply": "2024-05-09T08:54:44.810570Z"
    },
    "papermill": {
     "duration": 0.032475,
     "end_time": "2024-05-09T08:54:44.813640",
     "exception": false,
     "start_time": "2024-05-09T08:54:44.781165",
     "status": "completed"
    },
    "tags": []
   },
   "outputs": [
    {
     "data": {
      "text/plain": [
       "created_at    0\n",
       "stage         0\n",
       "dtype: int64"
      ]
     },
     "execution_count": 19,
     "metadata": {},
     "output_type": "execute_result"
    }
   ],
   "source": [
    "df3.isnull().sum()"
   ]
  },
  {
   "cell_type": "code",
   "execution_count": null,
   "id": "0ca16bd1",
   "metadata": {
    "papermill": {
     "duration": 0.017852,
     "end_time": "2024-05-09T08:54:44.849498",
     "exception": false,
     "start_time": "2024-05-09T08:54:44.831646",
     "status": "completed"
    },
    "tags": []
   },
   "outputs": [],
   "source": []
  },
  {
   "cell_type": "markdown",
   "id": "f1eb2a44",
   "metadata": {
    "papermill": {
     "duration": 0.017723,
     "end_time": "2024-05-09T08:54:44.885702",
     "exception": false,
     "start_time": "2024-05-09T08:54:44.867979",
     "status": "completed"
    },
    "tags": []
   },
   "source": [
    "***VISUALIZATION***"
   ]
  },
  {
   "cell_type": "markdown",
   "id": "a3261a6e",
   "metadata": {
    "papermill": {
     "duration": 0.017862,
     "end_time": "2024-05-09T08:54:44.921819",
     "exception": false,
     "start_time": "2024-05-09T08:54:44.903957",
     "status": "completed"
    },
    "tags": []
   },
   "source": [
    "Lets create a line graph for south Africa load_shedding represented by df3"
   ]
  },
  {
   "cell_type": "code",
   "execution_count": 20,
   "id": "071e979d",
   "metadata": {
    "execution": {
     "iopub.execute_input": "2024-05-09T08:54:44.960437Z",
     "iopub.status.busy": "2024-05-09T08:54:44.959588Z",
     "iopub.status.idle": "2024-05-09T08:54:46.970093Z",
     "shell.execute_reply": "2024-05-09T08:54:46.968914Z"
    },
    "papermill": {
     "duration": 2.033011,
     "end_time": "2024-05-09T08:54:46.972859",
     "exception": false,
     "start_time": "2024-05-09T08:54:44.939848",
     "status": "completed"
    },
    "tags": []
   },
   "outputs": [
    {
     "data": {
      "text/html": [
       "<html>\n",
       "<head><meta charset=\"utf-8\" /></head>\n",
       "<body>\n",
       "    <div>            <script src=\"https://cdnjs.cloudflare.com/ajax/libs/mathjax/2.7.5/MathJax.js?config=TeX-AMS-MML_SVG\"></script><script type=\"text/javascript\">if (window.MathJax && window.MathJax.Hub && window.MathJax.Hub.Config) {window.MathJax.Hub.Config({SVG: {font: \"STIX-Web\"}});}</script>                <script type=\"text/javascript\">window.PlotlyConfig = {MathJaxConfig: 'local'};</script>\n",
       "        <script charset=\"utf-8\" src=\"https://cdn.plot.ly/plotly-2.27.0.min.js\"></script>                <div id=\"cc53ab66-1e4a-42f9-b635-3dac8b68b8e3\" class=\"plotly-graph-div\" style=\"height:525px; width:100%;\"></div>            <script type=\"text/javascript\">                                    window.PLOTLYENV=window.PLOTLYENV || {};                                    if (document.getElementById(\"cc53ab66-1e4a-42f9-b635-3dac8b68b8e3\")) {                    Plotly.newPlot(                        \"cc53ab66-1e4a-42f9-b635-3dac8b68b8e3\",                        [{\"hovertemplate\":\"created_at=%{x}\\u003cbr\\u003estage=%{y}\\u003cextra\\u003e\\u003c\\u002fextra\\u003e\",\"legendgroup\":\"\",\"line\":{\"color\":\"#636efa\",\"dash\":\"solid\"},\"marker\":{\"symbol\":\"circle\"},\"mode\":\"lines\",\"name\":\"\",\"orientation\":\"v\",\"showlegend\":false,\"x\":[\"9\\u002f7\\u002f2020 20:03:18\",\"9\\u002f7\\u002f2020 14:00:22\",\"9\\u002f7\\u002f2020 6:00:53\",\"9\\u002f6\\u002f2020 18:16:14\",\"9\\u002f6\\u002f2020 10:00:25\",\"9\\u002f6\\u002f2020 6:00:50\",\"9\\u002f5\\u002f2020 20:00:31\",\"9\\u002f5\\u002f2020 6:00:18\",\"9\\u002f4\\u002f2020 19:12:05\",\"9\\u002f4\\u002f2020 6:01:47\",\"9\\u002f3\\u002f2020 20:04:09\",\"9\\u002f3\\u002f2020 6:00:35\",\"9\\u002f2\\u002f2020 20:21:48\",\"9\\u002f2\\u002f2020 13:00:13\",\"9\\u002f2\\u002f2020 6:00:50\",\"9\\u002f1\\u002f2020 20:00:23\",\"9\\u002f1\\u002f2020 10:00:34\",\"8\\u002f20\\u002f2020 20:00:04\",\"8\\u002f20\\u002f2020 7:02:58\",\"8\\u002f19\\u002f2020 20:00:55\",\"8\\u002f19\\u002f2020 7:00:20\",\"8\\u002f18\\u002f2020 19:56:07\",\"8\\u002f18\\u002f2020 14:01:02\",\"8\\u002f14\\u002f2020 19:31:25\",\"8\\u002f14\\u002f2020 15:00:49\",\"8\\u002f14\\u002f2020 5:59:58\",\"8\\u002f13\\u002f2020 20:02:24\",\"8\\u002f13\\u002f2020 5:55:23\",\"7\\u002f16\\u002f2020 19:15:17\",\"7\\u002f16\\u002f2020 12:00:23\",\"7\\u002f16\\u002f2020 7:00:32\",\"7\\u002f15\\u002f2020 19:50:37\",\"7\\u002f15\\u002f2020 12:01:40\",\"7\\u002f15\\u002f2020 7:00:28\",\"7\\u002f14\\u002f2020 19:57:28\",\"7\\u002f14\\u002f2020 7:03:33\",\"7\\u002f13\\u002f2020 20:01:22\",\"7\\u002f13\\u002f2020 7:00:26\",\"7\\u002f12\\u002f2020 20:00:55\",\"7\\u002f12\\u002f2020 18:00:42\",\"7\\u002f12\\u002f2020 5:59:43\",\"7\\u002f11\\u002f2020 20:34:30\",\"7\\u002f11\\u002f2020 7:04:40\",\"7\\u002f10\\u002f2020 20:16:19\",\"7\\u002f10\\u002f2020 10:16:09\",\"3\\u002f15\\u002f2020 12:00:56\",\"3\\u002f15\\u002f2020 7:00:24\",\"3\\u002f14\\u002f2020 23:00:39\",\"3\\u002f14\\u002f2020 12:12:09\",\"3\\u002f14\\u002f2020 7:02:55\",\"3\\u002f13\\u002f2020 23:00:59\",\"3\\u002f13\\u002f2020 14:41:59\",\"3\\u002f11\\u002f2020 9:53:28\",\"3\\u002f10\\u002f2020 22:59:58\",\"3\\u002f10\\u002f2020 14:01:13\",\"3\\u002f10\\u002f2020 9:00:02\",\"3\\u002f10\\u002f2020 7:16:05\",\"3\\u002f10\\u002f2020 5:00:38\",\"3\\u002f9\\u002f2020 8:59:46\",\"2\\u002f22\\u002f2020 17:00:21\",\"2\\u002f20\\u002f2020 8:58:31\",\"2\\u002f16\\u002f2020 21:00:02\",\"2\\u002f16\\u002f2020 9:15:24\",\"2\\u002f15\\u002f2020 8:58:37\",\"2\\u002f14\\u002f2020 21:10:13\",\"2\\u002f11\\u002f2020 21:00:53\",\"2\\u002f11\\u002f2020 9:00:50\",\"2\\u002f11\\u002f2020 6:00:08\",\"2\\u002f10\\u002f2020 9:01:42\",\"2\\u002f9\\u002f2020 20:53:57\",\"2\\u002f4\\u002f2020 8:56:41\",\"2\\u002f4\\u002f2020 6:00:08\",\"2\\u002f3\\u002f2020 18:02:07\",\"2\\u002f3\\u002f2020 16:01:11\",\"2\\u002f3\\u002f2020 8:55:17\",\"2\\u002f3\\u002f2020 6:36:18\",\"1\\u002f31\\u002f2020 9:02:06\",\"1\\u002f31\\u002f2020 6:01:23\",\"1\\u002f30\\u002f2020 21:00:54\",\"1\\u002f10\\u002f2020 22:57:22\",\"1\\u002f10\\u002f2020 6:01:15\",\"1\\u002f8\\u002f2020 20:57:43\",\"1\\u002f8\\u002f2020 6:01:48\",\"1\\u002f8\\u002f2020 0:59:18\",\"1\\u002f5\\u002f2020 23:00:14\",\"1\\u002f4\\u002f2020 21:56:40\",\"12\\u002f13\\u002f2019 21:00:53\",\"12\\u002f13\\u002f2019 15:59:55\",\"12\\u002f13\\u002f2019 9:01:03\",\"12\\u002f12\\u002f2019 22:55:46\",\"12\\u002f11\\u002f2019 9:50:05\",\"12\\u002f11\\u002f2019 9:40:00\",\"12\\u002f10\\u002f2019 20:58:48\",\"12\\u002f10\\u002f2019 20:00:29\",\"12\\u002f9\\u002f2019 22:02:19\",\"12\\u002f9\\u002f2019 18:06:17\",\"12\\u002f9\\u002f2019 10:00:48\",\"12\\u002f8\\u002f2019 9:00:06\",\"12\\u002f7\\u002f2019 22:51:31\",\"12\\u002f6\\u002f2019 23:01:37\",\"12\\u002f6\\u002f2019 14:07:42\",\"12\\u002f6\\u002f2019 9:02:14\",\"12\\u002f6\\u002f2019 7:04:27\",\"12\\u002f5\\u002f2019 16:00:38\",\"11\\u002f8\\u002f2019 5:00:32\",\"11\\u002f7\\u002f2019 22:00:29\",\"10\\u002f19\\u002f2019 22:59:56\",\"10\\u002f19\\u002f2019 8:58:02\",\"10\\u002f18\\u002f2019 23:03:14\",\"10\\u002f18\\u002f2019 12:00:38\",\"10\\u002f18\\u002f2019 8:47:24\",\"10\\u002f17\\u002f2019 23:01:04\",\"10\\u002f17\\u002f2019 9:00:24\",\"10\\u002f16\\u002f2019 23:00:12\",\"10\\u002f16\\u002f2019 8:59:53\",\"3\\u002f23\\u002f2019 22:31:35\",\"3\\u002f23\\u002f2019 21:25:28\",\"3\\u002f23\\u002f2019 9:13:23\",\"3\\u002f22\\u002f2019 23:00:20\",\"3\\u002f22\\u002f2019 8:59:35\",\"3\\u002f21\\u002f2019 23:41:58\",\"3\\u002f21\\u002f2019 8:59:19\",\"3\\u002f20\\u002f2019 23:01:07\",\"3\\u002f20\\u002f2019 8:55:24\",\"3\\u002f19\\u002f2019 23:00:15\",\"3\\u002f19\\u002f2019 9:00:31\",\"3\\u002f19\\u002f2019 8:09:45\",\"3\\u002f18\\u002f2019 9:00:17\",\"3\\u002f17\\u002f2019 22:55:32\",\"3\\u002f17\\u002f2019 7:37:32\",\"3\\u002f16\\u002f2019 22:56:38\",\"3\\u002f16\\u002f2019 12:23:41\",\"3\\u002f16\\u002f2019 10:03:00\",\"3\\u002f16\\u002f2019 8:02:42\",\"3\\u002f15\\u002f2019 23:02:47\",\"3\\u002f15\\u002f2019 8:05:14\",\"3\\u002f14\\u002f2019 23:18:34\",\"3\\u002f14\\u002f2019 15:00:46\",\"3\\u002f14\\u002f2019 11:01:53\",\"2\\u002f14\\u002f2019 22:03:16\",\"2\\u002f14\\u002f2019 8:00:48\",\"2\\u002f13\\u002f2019 21:55:09\",\"2\\u002f13\\u002f2019 8:00:10\",\"2\\u002f12\\u002f2019 22:28:44\",\"2\\u002f12\\u002f2019 8:00:53\",\"2\\u002f11\\u002f2019 23:06:27\",\"2\\u002f11\\u002f2019 13:03:27\",\"2\\u002f11\\u002f2019 9:01:41\",\"2\\u002f10\\u002f2019 22:02:05\",\"2\\u002f10\\u002f2019 13:02:33\",\"12\\u002f8\\u002f2018 21:41:27\",\"12\\u002f8\\u002f2018 10:15:38\",\"12\\u002f7\\u002f2018 21:39:22\",\"12\\u002f7\\u002f2018 9:00:07\",\"12\\u002f6\\u002f2018 20:58:13\",\"12\\u002f6\\u002f2018 20:27:27\",\"12\\u002f6\\u002f2018 9:00:40\",\"12\\u002f5\\u002f2018 21:33:41\",\"12\\u002f5\\u002f2018 20:57:44\",\"12\\u002f5\\u002f2018 9:01:04\",\"12\\u002f4\\u002f2018 21:30:24\",\"12\\u002f4\\u002f2018 21:01:18\",\"12\\u002f4\\u002f2018 9:00:45\",\"12\\u002f3\\u002f2018 21:08:25\",\"12\\u002f3\\u002f2018 20:17:47\",\"12\\u002f3\\u002f2018 9:56:54\",\"12\\u002f2\\u002f2018 20:49:58\",\"12\\u002f2\\u002f2018 20:25:42\",\"12\\u002f2\\u002f2018 8:01:56\",\"12\\u002f1\\u002f2018 21:24:43\",\"12\\u002f1\\u002f2018 20:55:36\",\"12\\u002f1\\u002f2018 16:07:08\",\"12\\u002f1\\u002f2018 9:01:25\",\"11\\u002f30\\u002f2018 21:01:22\",\"11\\u002f30\\u002f2018 9:00:07\",\"11\\u002f29\\u002f2018 21:07:57\",\"11\\u002f29\\u002f2018 12:06:02\",\"11\\u002f18\\u002f2018 20:51:56\",\"11\\u002f18\\u002f2018 12:42:06\",\"6\\u002f16\\u002f2018 21:05:52\",\"6\\u002f16\\u002f2018 17:02:17\",\"6\\u002f15\\u002f2018 19:31:29\",\"6\\u002f15\\u002f2018 11:32:16\",\"6\\u002f14\\u002f2018 20:03:07\",\"6\\u002f14\\u002f2018 17:52:52\",\"9\\u002f14\\u002f2015 21:25:09\",\"9\\u002f14\\u002f2015 19:01:03\",\"8\\u002f8\\u002f2015 21:01:20\",\"8\\u002f8\\u002f2015 16:58:18\",\"8\\u002f6\\u002f2015 21:57:52\",\"8\\u002f6\\u002f2015 16:58:54\",\"8\\u002f6\\u002f2015 12:01:29\",\"8\\u002f6\\u002f2015 6:43:57\",\"8\\u002f5\\u002f2015 22:02:05\",\"8\\u002f5\\u002f2015 17:10:37\",\"8\\u002f4\\u002f2015 21:59:12\",\"8\\u002f4\\u002f2015 17:02:46\",\"8\\u002f3\\u002f2015 21:57:21\",\"8\\u002f3\\u002f2015 17:01:21\",\"7\\u002f30\\u002f2015 22:00:40\",\"7\\u002f30\\u002f2015 17:17:16\",\"7\\u002f29\\u002f2015 22:02:10\",\"7\\u002f29\\u002f2015 16:55:45\",\"7\\u002f26\\u002f2015 21:18:44\",\"7\\u002f26\\u002f2015 8:32:17\",\"7\\u002f25\\u002f2015 21:55:31\",\"7\\u002f25\\u002f2015 8:21:21\",\"7\\u002f24\\u002f2015 22:04:01\",\"7\\u002f24\\u002f2015 16:56:15\",\"7\\u002f24\\u002f2015 11:55:58\",\"7\\u002f23\\u002f2015 22:04:45\",\"7\\u002f23\\u002f2015 17:03:52\",\"7\\u002f22\\u002f2015 22:01:53\",\"7\\u002f22\\u002f2015 17:02:26\",\"7\\u002f21\\u002f2015 22:02:08\",\"7\\u002f21\\u002f2015 17:02:35\",\"7\\u002f20\\u002f2015 22:04:34\",\"7\\u002f20\\u002f2015 17:03:33\",\"7\\u002f19\\u002f2015 22:01:29\",\"7\\u002f19\\u002f2015 8:01:17\",\"7\\u002f17\\u002f2015 5:06:09\",\"7\\u002f16\\u002f2015 17:02:23\",\"7\\u002f15\\u002f2015 22:02:09\",\"7\\u002f15\\u002f2015 17:52:55\",\"7\\u002f15\\u002f2015 8:31:48\",\"7\\u002f14\\u002f2015 22:01:26\",\"7\\u002f14\\u002f2015 17:26:11\",\"7\\u002f10\\u002f2015 13:47:03\",\"7\\u002f10\\u002f2015 8:35:09\",\"7\\u002f9\\u002f2015 22:02:07\",\"7\\u002f9\\u002f2015 17:01:50\",\"6\\u002f29\\u002f2015 22:01:26\",\"6\\u002f29\\u002f2015 17:01:08\",\"6\\u002f28\\u002f2015 22:00:52\",\"6\\u002f28\\u002f2015 8:02:37\",\"6\\u002f27\\u002f2015 22:01:31\",\"6\\u002f27\\u002f2015 17:02:03\",\"6\\u002f26\\u002f2015 22:02:13\",\"6\\u002f26\\u002f2015 16:24:50\",\"6\\u002f25\\u002f2015 22:00:41\",\"6\\u002f25\\u002f2015 16:02:38\",\"6\\u002f25\\u002f2015 15:05:54\",\"6\\u002f24\\u002f2015 22:01:29\",\"6\\u002f24\\u002f2015 16:12:08\",\"6\\u002f23\\u002f2015 22:01:11\",\"6\\u002f23\\u002f2015 16:15:22\",\"6\\u002f22\\u002f2015 22:01:15\",\"6\\u002f22\\u002f2015 16:59:12\",\"6\\u002f22\\u002f2015 16:01:17\",\"6\\u002f21\\u002f2015 21:22:30\",\"6\\u002f21\\u002f2015 17:03:02\",\"6\\u002f20\\u002f2015 21:03:50\",\"6\\u002f20\\u002f2015 18:56:15\",\"6\\u002f20\\u002f2015 18:18:49\",\"6\\u002f20\\u002f2015 17:34:10\",\"6\\u002f20\\u002f2015 17:08:55\",\"6\\u002f19\\u002f2015 21:29:48\",\"6\\u002f19\\u002f2015 17:28:32\",\"6\\u002f18\\u002f2015 22:03:07\",\"6\\u002f18\\u002f2015 16:03:47\",\"6\\u002f17\\u002f2015 22:02:38\",\"6\\u002f17\\u002f2015 17:45:00\",\"6\\u002f14\\u002f2015 21:57:19\",\"6\\u002f14\\u002f2015 17:02:17\",\"6\\u002f12\\u002f2015 22:02:11\",\"6\\u002f12\\u002f2015 8:23:05\",\"6\\u002f12\\u002f2015 6:19:18\",\"6\\u002f11\\u002f2015 21:52:38\",\"6\\u002f11\\u002f2015 16:20:05\",\"6\\u002f11\\u002f2015 9:40:46\",\"6\\u002f10\\u002f2015 21:56:40\",\"6\\u002f10\\u002f2015 16:16:31\",\"6\\u002f10\\u002f2015 16:11:53\",\"6\\u002f9\\u002f2015 21:20:16\",\"6\\u002f9\\u002f2015 16:59:59\",\"6\\u002f8\\u002f2015 21:38:27\",\"6\\u002f8\\u002f2015 17:58:47\",\"6\\u002f8\\u002f2015 17:01:04\",\"6\\u002f7\\u002f2015 21:34:35\",\"6\\u002f7\\u002f2015 17:01:28\",\"5\\u002f27\\u002f2015 20:50:23\",\"5\\u002f27\\u002f2015 17:00:50\",\"5\\u002f26\\u002f2015 22:03:26\",\"5\\u002f26\\u002f2015 17:01:00\",\"5\\u002f25\\u002f2015 21:47:34\",\"5\\u002f25\\u002f2015 17:44:32\",\"5\\u002f24\\u002f2015 20:19:57\",\"5\\u002f24\\u002f2015 7:00:46\",\"5\\u002f23\\u002f2015 21:50:58\",\"5\\u002f23\\u002f2015 7:03:23\",\"5\\u002f22\\u002f2015 21:53:43\",\"5\\u002f22\\u002f2015 12:01:53\",\"5\\u002f22\\u002f2015 6:32:56\",\"5\\u002f21\\u002f2015 22:01:01\",\"5\\u002f21\\u002f2015 14:11:07\",\"5\\u002f21\\u002f2015 8:01:42\",\"5\\u002f20\\u002f2015 22:00:27\",\"5\\u002f20\\u002f2015 17:01:13\",\"5\\u002f20\\u002f2015 16:01:34\",\"5\\u002f19\\u002f2015 23:31:04\",\"5\\u002f19\\u002f2015 23:19:45\",\"5\\u002f19\\u002f2015 22:00:29\",\"5\\u002f19\\u002f2015 17:04:39\",\"5\\u002f19\\u002f2015 16:03:02\",\"5\\u002f18\\u002f2015 22:02:09\",\"5\\u002f18\\u002f2015 17:03:24\",\"5\\u002f18\\u002f2015 16:08:21\",\"5\\u002f17\\u002f2015 21:47:08\",\"5\\u002f17\\u002f2015 12:03:43\",\"5\\u002f17\\u002f2015 7:04:26\",\"5\\u002f16\\u002f2015 21:40:48\",\"5\\u002f16\\u002f2015 8:19:03\",\"5\\u002f15\\u002f2015 22:03:50\",\"5\\u002f15\\u002f2015 17:02:46\",\"5\\u002f14\\u002f2015 22:01:17\",\"5\\u002f14\\u002f2015 17:06:11\",\"5\\u002f14\\u002f2015 16:07:27\",\"5\\u002f13\\u002f2015 21:47:12\",\"5\\u002f13\\u002f2015 16:18:12\",\"5\\u002f13\\u002f2015 6:27:24\",\"5\\u002f12\\u002f2015 16:01:03\",\"5\\u002f12\\u002f2015 6:38:56\",\"5\\u002f11\\u002f2015 17:31:20\",\"5\\u002f11\\u002f2015 16:39:28\",\"5\\u002f10\\u002f2015 21:53:41\",\"5\\u002f10\\u002f2015 9:59:20\",\"5\\u002f10\\u002f2015 9:58:12\",\"5\\u002f10\\u002f2015 7:02:22\",\"5\\u002f10\\u002f2015 5:46:30\",\"5\\u002f9\\u002f2015 22:03:57\",\"5\\u002f9\\u002f2015 22:02:53\",\"5\\u002f9\\u002f2015 21:10:41\",\"5\\u002f9\\u002f2015 12:01:08\",\"5\\u002f9\\u002f2015 9:16:15\",\"5\\u002f8\\u002f2015 20:52:59\",\"5\\u002f8\\u002f2015 10:10:33\",\"5\\u002f7\\u002f2015 21:35:54\",\"5\\u002f7\\u002f2015 16:59:44\",\"5\\u002f7\\u002f2015 8:39:13\",\"5\\u002f6\\u002f2015 21:44:25\",\"5\\u002f6\\u002f2015 18:06:03\",\"5\\u002f6\\u002f2015 16:18:11\",\"5\\u002f5\\u002f2015 21:21:10\",\"5\\u002f5\\u002f2015 17:07:16\",\"5\\u002f4\\u002f2015 21:27:55\",\"5\\u002f4\\u002f2015 17:02:00\",\"5\\u002f3\\u002f2015 19:52:04\",\"5\\u002f3\\u002f2015 16:59:24\",\"4\\u002f29\\u002f2015 20:37:30\",\"4\\u002f29\\u002f2015 18:02:12\",\"4\\u002f23\\u002f2015 21:41:56\",\"4\\u002f23\\u002f2015 20:12:34\",\"4\\u002f23\\u002f2015 18:00:11\",\"4\\u002f23\\u002f2015 17:00:10\",\"4\\u002f22\\u002f2015 21:46:45\",\"4\\u002f22\\u002f2015 16:59:00\",\"4\\u002f21\\u002f2015 21:49:12\",\"4\\u002f21\\u002f2015 17:03:05\",\"4\\u002f20\\u002f2015 21:50:48\",\"4\\u002f20\\u002f2015 17:04:51\",\"4\\u002f19\\u002f2015 21:11:44\",\"4\\u002f19\\u002f2015 8:07:47\",\"4\\u002f18\\u002f2015 21:46:17\",\"4\\u002f18\\u002f2015 9:26:21\",\"4\\u002f17\\u002f2015 22:39:21\",\"4\\u002f17\\u002f2015 10:01:13\",\"4\\u002f17\\u002f2015 5:58:02\",\"4\\u002f16\\u002f2015 22:03:03\",\"4\\u002f16\\u002f2015 19:06:22\",\"4\\u002f16\\u002f2015 5:59:56\",\"4\\u002f15\\u002f2015 21:18:22\",\"4\\u002f15\\u002f2015 16:05:32\",\"4\\u002f15\\u002f2015 7:43:26\",\"4\\u002f14\\u002f2015 22:02:37\",\"4\\u002f14\\u002f2015 20:57:14\",\"4\\u002f14\\u002f2015 18:01:35\",\"4\\u002f14\\u002f2015 6:35:38\",\"4\\u002f13\\u002f2015 22:14:40\",\"4\\u002f13\\u002f2015 16:00:50\",\"4\\u002f12\\u002f2015 22:01:24\",\"4\\u002f12\\u002f2015 10:03:25\",\"4\\u002f7\\u002f2015 21:01:14\",\"4\\u002f7\\u002f2015 16:35:21\",\"3\\u002f26\\u002f2015 22:00:11\",\"3\\u002f26\\u002f2015 12:00:49\",\"3\\u002f25\\u002f2015 22:01:10\",\"3\\u002f25\\u002f2015 16:09:56\",\"3\\u002f25\\u002f2015 16:02:58\",\"3\\u002f21\\u002f2015 21:01:31\",\"3\\u002f21\\u002f2015 18:41:58\",\"3\\u002f21\\u002f2015 9:02:44\",\"2\\u002f26\\u002f2015 10:11:34\",\"2\\u002f22\\u002f2015 20:54:49\",\"2\\u002f22\\u002f2015 16:24:17\",\"2\\u002f21\\u002f2015 22:01:36\",\"2\\u002f21\\u002f2015 8:02:04\",\"2\\u002f15\\u002f2015 21:59:25\",\"2\\u002f15\\u002f2015 12:00:57\",\"2\\u002f15\\u002f2015 8:00:46\",\"2\\u002f14\\u002f2015 22:07:15\",\"2\\u002f14\\u002f2015 21:43:52\",\"2\\u002f14\\u002f2015 8:01:21\",\"2\\u002f11\\u002f2015 22:48:17\",\"2\\u002f11\\u002f2015 18:14:27\",\"2\\u002f11\\u002f2015 14:13:57\",\"2\\u002f10\\u002f2015 22:01:15\",\"2\\u002f10\\u002f2015 18:00:21\",\"2\\u002f9\\u002f2015 22:03:28\",\"2\\u002f9\\u002f2015 16:01:14\",\"2\\u002f8\\u002f2015 22:10:46\",\"2\\u002f8\\u002f2015 8:01:35\",\"2\\u002f7\\u002f2015 22:03:20\",\"2\\u002f7\\u002f2015 8:06:06\",\"2\\u002f6\\u002f2015 22:04:02\",\"2\\u002f6\\u002f2015 8:05:00\",\"2\\u002f6\\u002f2015 7:00:07\",\"2\\u002f5\\u002f2015 16:12:33\",\"2\\u002f5\\u002f2015 8:00:56\",\"2\\u002f5\\u002f2015 7:00:24\",\"2\\u002f4\\u002f2015 14:45:34\",\"1\\u002f26\\u002f2015 15:50:32\",\"1\\u002f9\\u002f2015 11:47:19\"],\"xaxis\":\"x\",\"y\":[0,2,1,0,1,2,0,2,0,3,0,4,0,4,2,0,2,0,2,0,2,0,2,0,1,2,0,2,0,2,1,0,2,1,0,2,0,2,0,1,2,0,2,0,2,0,1,0,1,2,0,3,4,2,4,2,2,0,1,0,2,0,2,3,2,0,1,0,1,0,2,0,2,0,2,0,2,0,2,0,1,2,0,2,0,2,0,1,2,1,2,0,2,3,4,6,4,2,1,2,4,2,0,2,0,2,0,1,0,2,1,0,2,0,2,0,1,2,1,2,1,4,2,4,2,4,2,4,2,4,2,4,3,2,0,2,0,2,1,0,2,0,3,0,3,0,4,2,0,2,0,1,0,1,0,1,2,0,1,2,0,1,2,0,1,2,0,1,2,0,1,2,1,0,2,0,1,0,1,0,2,0,1,0,1,0,1,0,1,0,2,0,1,0,2,0,2,0,2,0,1,0,1,0,2,0,2,0,2,1,0,2,0,1,0,2,0,1,0,2,0,1,0,2,1,0,1,0,1,0,1,0,1,0,2,0,2,0,2,0,2,1,0,1,0,1,0,2,1,0,1,0,2,3,2,1,0,1,0,1,0,1,0,1,0,2,1,0,2,1,0,2,1,0,1,0,2,1,0,1,0,1,0,1,0,1,0,1,0,2,0,2,1,0,2,1,0,2,1,0,1,0,2,1,0,2,1,0,1,2,0,1,0,1,0,2,1,0,1,0,2,0,2,1,0,1,0,1,0,1,0,1,2,1,0,1,0,2,1,0,2,1,0,1,0,1,0,1,0,1,0,1,2,1,0,1,0,1,0,1,0,1,0,2,0,2,1,0,2,1,0,3,2,0,2,3,2,0,2,0,2,0,1,0,2,0,2,2,0,1,1,2,0,1,0,1,0,1,2,0,0,2,0,2,1,0,1,0,1,0,2,0,2,0,2,0,3,2,0,2,2,1],\"yaxis\":\"y\",\"type\":\"scatter\"}],                        {\"template\":{\"data\":{\"histogram2dcontour\":[{\"type\":\"histogram2dcontour\",\"colorbar\":{\"outlinewidth\":0,\"ticks\":\"\"},\"colorscale\":[[0.0,\"#0d0887\"],[0.1111111111111111,\"#46039f\"],[0.2222222222222222,\"#7201a8\"],[0.3333333333333333,\"#9c179e\"],[0.4444444444444444,\"#bd3786\"],[0.5555555555555556,\"#d8576b\"],[0.6666666666666666,\"#ed7953\"],[0.7777777777777778,\"#fb9f3a\"],[0.8888888888888888,\"#fdca26\"],[1.0,\"#f0f921\"]]}],\"choropleth\":[{\"type\":\"choropleth\",\"colorbar\":{\"outlinewidth\":0,\"ticks\":\"\"}}],\"histogram2d\":[{\"type\":\"histogram2d\",\"colorbar\":{\"outlinewidth\":0,\"ticks\":\"\"},\"colorscale\":[[0.0,\"#0d0887\"],[0.1111111111111111,\"#46039f\"],[0.2222222222222222,\"#7201a8\"],[0.3333333333333333,\"#9c179e\"],[0.4444444444444444,\"#bd3786\"],[0.5555555555555556,\"#d8576b\"],[0.6666666666666666,\"#ed7953\"],[0.7777777777777778,\"#fb9f3a\"],[0.8888888888888888,\"#fdca26\"],[1.0,\"#f0f921\"]]}],\"heatmap\":[{\"type\":\"heatmap\",\"colorbar\":{\"outlinewidth\":0,\"ticks\":\"\"},\"colorscale\":[[0.0,\"#0d0887\"],[0.1111111111111111,\"#46039f\"],[0.2222222222222222,\"#7201a8\"],[0.3333333333333333,\"#9c179e\"],[0.4444444444444444,\"#bd3786\"],[0.5555555555555556,\"#d8576b\"],[0.6666666666666666,\"#ed7953\"],[0.7777777777777778,\"#fb9f3a\"],[0.8888888888888888,\"#fdca26\"],[1.0,\"#f0f921\"]]}],\"heatmapgl\":[{\"type\":\"heatmapgl\",\"colorbar\":{\"outlinewidth\":0,\"ticks\":\"\"},\"colorscale\":[[0.0,\"#0d0887\"],[0.1111111111111111,\"#46039f\"],[0.2222222222222222,\"#7201a8\"],[0.3333333333333333,\"#9c179e\"],[0.4444444444444444,\"#bd3786\"],[0.5555555555555556,\"#d8576b\"],[0.6666666666666666,\"#ed7953\"],[0.7777777777777778,\"#fb9f3a\"],[0.8888888888888888,\"#fdca26\"],[1.0,\"#f0f921\"]]}],\"contourcarpet\":[{\"type\":\"contourcarpet\",\"colorbar\":{\"outlinewidth\":0,\"ticks\":\"\"}}],\"contour\":[{\"type\":\"contour\",\"colorbar\":{\"outlinewidth\":0,\"ticks\":\"\"},\"colorscale\":[[0.0,\"#0d0887\"],[0.1111111111111111,\"#46039f\"],[0.2222222222222222,\"#7201a8\"],[0.3333333333333333,\"#9c179e\"],[0.4444444444444444,\"#bd3786\"],[0.5555555555555556,\"#d8576b\"],[0.6666666666666666,\"#ed7953\"],[0.7777777777777778,\"#fb9f3a\"],[0.8888888888888888,\"#fdca26\"],[1.0,\"#f0f921\"]]}],\"surface\":[{\"type\":\"surface\",\"colorbar\":{\"outlinewidth\":0,\"ticks\":\"\"},\"colorscale\":[[0.0,\"#0d0887\"],[0.1111111111111111,\"#46039f\"],[0.2222222222222222,\"#7201a8\"],[0.3333333333333333,\"#9c179e\"],[0.4444444444444444,\"#bd3786\"],[0.5555555555555556,\"#d8576b\"],[0.6666666666666666,\"#ed7953\"],[0.7777777777777778,\"#fb9f3a\"],[0.8888888888888888,\"#fdca26\"],[1.0,\"#f0f921\"]]}],\"mesh3d\":[{\"type\":\"mesh3d\",\"colorbar\":{\"outlinewidth\":0,\"ticks\":\"\"}}],\"scatter\":[{\"fillpattern\":{\"fillmode\":\"overlay\",\"size\":10,\"solidity\":0.2},\"type\":\"scatter\"}],\"parcoords\":[{\"type\":\"parcoords\",\"line\":{\"colorbar\":{\"outlinewidth\":0,\"ticks\":\"\"}}}],\"scatterpolargl\":[{\"type\":\"scatterpolargl\",\"marker\":{\"colorbar\":{\"outlinewidth\":0,\"ticks\":\"\"}}}],\"bar\":[{\"error_x\":{\"color\":\"#2a3f5f\"},\"error_y\":{\"color\":\"#2a3f5f\"},\"marker\":{\"line\":{\"color\":\"#E5ECF6\",\"width\":0.5},\"pattern\":{\"fillmode\":\"overlay\",\"size\":10,\"solidity\":0.2}},\"type\":\"bar\"}],\"scattergeo\":[{\"type\":\"scattergeo\",\"marker\":{\"colorbar\":{\"outlinewidth\":0,\"ticks\":\"\"}}}],\"scatterpolar\":[{\"type\":\"scatterpolar\",\"marker\":{\"colorbar\":{\"outlinewidth\":0,\"ticks\":\"\"}}}],\"histogram\":[{\"marker\":{\"pattern\":{\"fillmode\":\"overlay\",\"size\":10,\"solidity\":0.2}},\"type\":\"histogram\"}],\"scattergl\":[{\"type\":\"scattergl\",\"marker\":{\"colorbar\":{\"outlinewidth\":0,\"ticks\":\"\"}}}],\"scatter3d\":[{\"type\":\"scatter3d\",\"line\":{\"colorbar\":{\"outlinewidth\":0,\"ticks\":\"\"}},\"marker\":{\"colorbar\":{\"outlinewidth\":0,\"ticks\":\"\"}}}],\"scattermapbox\":[{\"type\":\"scattermapbox\",\"marker\":{\"colorbar\":{\"outlinewidth\":0,\"ticks\":\"\"}}}],\"scatterternary\":[{\"type\":\"scatterternary\",\"marker\":{\"colorbar\":{\"outlinewidth\":0,\"ticks\":\"\"}}}],\"scattercarpet\":[{\"type\":\"scattercarpet\",\"marker\":{\"colorbar\":{\"outlinewidth\":0,\"ticks\":\"\"}}}],\"carpet\":[{\"aaxis\":{\"endlinecolor\":\"#2a3f5f\",\"gridcolor\":\"white\",\"linecolor\":\"white\",\"minorgridcolor\":\"white\",\"startlinecolor\":\"#2a3f5f\"},\"baxis\":{\"endlinecolor\":\"#2a3f5f\",\"gridcolor\":\"white\",\"linecolor\":\"white\",\"minorgridcolor\":\"white\",\"startlinecolor\":\"#2a3f5f\"},\"type\":\"carpet\"}],\"table\":[{\"cells\":{\"fill\":{\"color\":\"#EBF0F8\"},\"line\":{\"color\":\"white\"}},\"header\":{\"fill\":{\"color\":\"#C8D4E3\"},\"line\":{\"color\":\"white\"}},\"type\":\"table\"}],\"barpolar\":[{\"marker\":{\"line\":{\"color\":\"#E5ECF6\",\"width\":0.5},\"pattern\":{\"fillmode\":\"overlay\",\"size\":10,\"solidity\":0.2}},\"type\":\"barpolar\"}],\"pie\":[{\"automargin\":true,\"type\":\"pie\"}]},\"layout\":{\"autotypenumbers\":\"strict\",\"colorway\":[\"#636efa\",\"#EF553B\",\"#00cc96\",\"#ab63fa\",\"#FFA15A\",\"#19d3f3\",\"#FF6692\",\"#B6E880\",\"#FF97FF\",\"#FECB52\"],\"font\":{\"color\":\"#2a3f5f\"},\"hovermode\":\"closest\",\"hoverlabel\":{\"align\":\"left\"},\"paper_bgcolor\":\"white\",\"plot_bgcolor\":\"#E5ECF6\",\"polar\":{\"bgcolor\":\"#E5ECF6\",\"angularaxis\":{\"gridcolor\":\"white\",\"linecolor\":\"white\",\"ticks\":\"\"},\"radialaxis\":{\"gridcolor\":\"white\",\"linecolor\":\"white\",\"ticks\":\"\"}},\"ternary\":{\"bgcolor\":\"#E5ECF6\",\"aaxis\":{\"gridcolor\":\"white\",\"linecolor\":\"white\",\"ticks\":\"\"},\"baxis\":{\"gridcolor\":\"white\",\"linecolor\":\"white\",\"ticks\":\"\"},\"caxis\":{\"gridcolor\":\"white\",\"linecolor\":\"white\",\"ticks\":\"\"}},\"coloraxis\":{\"colorbar\":{\"outlinewidth\":0,\"ticks\":\"\"}},\"colorscale\":{\"sequential\":[[0.0,\"#0d0887\"],[0.1111111111111111,\"#46039f\"],[0.2222222222222222,\"#7201a8\"],[0.3333333333333333,\"#9c179e\"],[0.4444444444444444,\"#bd3786\"],[0.5555555555555556,\"#d8576b\"],[0.6666666666666666,\"#ed7953\"],[0.7777777777777778,\"#fb9f3a\"],[0.8888888888888888,\"#fdca26\"],[1.0,\"#f0f921\"]],\"sequentialminus\":[[0.0,\"#0d0887\"],[0.1111111111111111,\"#46039f\"],[0.2222222222222222,\"#7201a8\"],[0.3333333333333333,\"#9c179e\"],[0.4444444444444444,\"#bd3786\"],[0.5555555555555556,\"#d8576b\"],[0.6666666666666666,\"#ed7953\"],[0.7777777777777778,\"#fb9f3a\"],[0.8888888888888888,\"#fdca26\"],[1.0,\"#f0f921\"]],\"diverging\":[[0,\"#8e0152\"],[0.1,\"#c51b7d\"],[0.2,\"#de77ae\"],[0.3,\"#f1b6da\"],[0.4,\"#fde0ef\"],[0.5,\"#f7f7f7\"],[0.6,\"#e6f5d0\"],[0.7,\"#b8e186\"],[0.8,\"#7fbc41\"],[0.9,\"#4d9221\"],[1,\"#276419\"]]},\"xaxis\":{\"gridcolor\":\"white\",\"linecolor\":\"white\",\"ticks\":\"\",\"title\":{\"standoff\":15},\"zerolinecolor\":\"white\",\"automargin\":true,\"zerolinewidth\":2},\"yaxis\":{\"gridcolor\":\"white\",\"linecolor\":\"white\",\"ticks\":\"\",\"title\":{\"standoff\":15},\"zerolinecolor\":\"white\",\"automargin\":true,\"zerolinewidth\":2},\"scene\":{\"xaxis\":{\"backgroundcolor\":\"#E5ECF6\",\"gridcolor\":\"white\",\"linecolor\":\"white\",\"showbackground\":true,\"ticks\":\"\",\"zerolinecolor\":\"white\",\"gridwidth\":2},\"yaxis\":{\"backgroundcolor\":\"#E5ECF6\",\"gridcolor\":\"white\",\"linecolor\":\"white\",\"showbackground\":true,\"ticks\":\"\",\"zerolinecolor\":\"white\",\"gridwidth\":2},\"zaxis\":{\"backgroundcolor\":\"#E5ECF6\",\"gridcolor\":\"white\",\"linecolor\":\"white\",\"showbackground\":true,\"ticks\":\"\",\"zerolinecolor\":\"white\",\"gridwidth\":2}},\"shapedefaults\":{\"line\":{\"color\":\"#2a3f5f\"}},\"annotationdefaults\":{\"arrowcolor\":\"#2a3f5f\",\"arrowhead\":0,\"arrowwidth\":1},\"geo\":{\"bgcolor\":\"white\",\"landcolor\":\"#E5ECF6\",\"subunitcolor\":\"white\",\"showland\":true,\"showlakes\":true,\"lakecolor\":\"white\"},\"title\":{\"x\":0.05},\"mapbox\":{\"style\":\"light\"}}},\"xaxis\":{\"anchor\":\"y\",\"domain\":[0.0,1.0],\"title\":{\"text\":\"created_at\"}},\"yaxis\":{\"anchor\":\"x\",\"domain\":[0.0,1.0],\"title\":{\"text\":\"stage\"}},\"legend\":{\"tracegroupgap\":0},\"title\":{\"text\":\"Load-shedding\"}},                        {\"responsive\": true}                    ).then(function(){\n",
       "                            \n",
       "var gd = document.getElementById('cc53ab66-1e4a-42f9-b635-3dac8b68b8e3');\n",
       "var x = new MutationObserver(function (mutations, observer) {{\n",
       "        var display = window.getComputedStyle(gd).display;\n",
       "        if (!display || display === 'none') {{\n",
       "            console.log([gd, 'removed!']);\n",
       "            Plotly.purge(gd);\n",
       "            observer.disconnect();\n",
       "        }}\n",
       "}});\n",
       "\n",
       "// Listen for the removal of the full notebook cells\n",
       "var notebookContainer = gd.closest('#notebook-container');\n",
       "if (notebookContainer) {{\n",
       "    x.observe(notebookContainer, {childList: true});\n",
       "}}\n",
       "\n",
       "// Listen for the clearing of the current output cell\n",
       "var outputEl = gd.closest('.output');\n",
       "if (outputEl) {{\n",
       "    x.observe(outputEl, {childList: true});\n",
       "}}\n",
       "\n",
       "                        })                };                            </script>        </div>\n",
       "</body>\n",
       "</html>"
      ]
     },
     "metadata": {},
     "output_type": "display_data"
    }
   ],
   "source": [
    "fig = px.line(df3, x='created_at', y='stage', title='Load-shedding')\n",
    "fig.show()"
   ]
  },
  {
   "cell_type": "markdown",
   "id": "70796423",
   "metadata": {
    "papermill": {
     "duration": 0.018183,
     "end_time": "2024-05-09T08:54:47.012749",
     "exception": false,
     "start_time": "2024-05-09T08:54:46.994566",
     "status": "completed"
    },
    "tags": []
   },
   "source": [
    "Now lets see how a pie graph show us df_2"
   ]
  },
  {
   "cell_type": "code",
   "execution_count": 21,
   "id": "5248900f",
   "metadata": {
    "execution": {
     "iopub.execute_input": "2024-05-09T08:54:47.052467Z",
     "iopub.status.busy": "2024-05-09T08:54:47.051795Z",
     "iopub.status.idle": "2024-05-09T08:54:47.141440Z",
     "shell.execute_reply": "2024-05-09T08:54:47.140237Z"
    },
    "papermill": {
     "duration": 0.112869,
     "end_time": "2024-05-09T08:54:47.143988",
     "exception": false,
     "start_time": "2024-05-09T08:54:47.031119",
     "status": "completed"
    },
    "tags": []
   },
   "outputs": [
    {
     "data": {
      "text/html": [
       "<html>\n",
       "<head><meta charset=\"utf-8\" /></head>\n",
       "<body>\n",
       "    <div>            <script src=\"https://cdnjs.cloudflare.com/ajax/libs/mathjax/2.7.5/MathJax.js?config=TeX-AMS-MML_SVG\"></script><script type=\"text/javascript\">if (window.MathJax && window.MathJax.Hub && window.MathJax.Hub.Config) {window.MathJax.Hub.Config({SVG: {font: \"STIX-Web\"}});}</script>                <script type=\"text/javascript\">window.PlotlyConfig = {MathJaxConfig: 'local'};</script>\n",
       "        <script charset=\"utf-8\" src=\"https://cdn.plot.ly/plotly-2.27.0.min.js\"></script>                <div id=\"839826cc-3eb8-4c50-b6da-09e79c05a5e7\" class=\"plotly-graph-div\" style=\"height:525px; width:100%;\"></div>            <script type=\"text/javascript\">                                    window.PLOTLYENV=window.PLOTLYENV || {};                                    if (document.getElementById(\"839826cc-3eb8-4c50-b6da-09e79c05a5e7\")) {                    Plotly.newPlot(                        \"839826cc-3eb8-4c50-b6da-09e79c05a5e7\",                        [{\"domain\":{\"x\":[0.0,1.0],\"y\":[0.0,1.0]},\"hovertemplate\":\"DATE=%{label}\\u003cbr\\u003ePRENEL01ZAQ656N=%{value}\\u003cextra\\u003e\\u003c\\u002fextra\\u003e\",\"labels\":[\"2015-01-01\",\"2015-04-01\",\"2015-07-01\",\"2015-10-01\",\"2016-01-01\",\"2016-04-01\",\"2016-07-01\",\"2016-10-01\",\"2017-01-01\",\"2017-04-01\",\"2017-07-01\",\"2017-10-01\",\"2018-01-01\",\"2018-04-01\",\"2018-07-01\"],\"legendgroup\":\"\",\"name\":\"\",\"showlegend\":true,\"values\":[20714.6666666667,20882.0,21197.0,20589.0,20469.3333333333,21064.0,21761.6666666667,20954.0,20448.3333333333,21558.6666666667,21765.6666666667,21262.0,20823.0,21483.6666666667,21837.3333333333],\"type\":\"pie\"}],                        {\"template\":{\"data\":{\"histogram2dcontour\":[{\"type\":\"histogram2dcontour\",\"colorbar\":{\"outlinewidth\":0,\"ticks\":\"\"},\"colorscale\":[[0.0,\"#0d0887\"],[0.1111111111111111,\"#46039f\"],[0.2222222222222222,\"#7201a8\"],[0.3333333333333333,\"#9c179e\"],[0.4444444444444444,\"#bd3786\"],[0.5555555555555556,\"#d8576b\"],[0.6666666666666666,\"#ed7953\"],[0.7777777777777778,\"#fb9f3a\"],[0.8888888888888888,\"#fdca26\"],[1.0,\"#f0f921\"]]}],\"choropleth\":[{\"type\":\"choropleth\",\"colorbar\":{\"outlinewidth\":0,\"ticks\":\"\"}}],\"histogram2d\":[{\"type\":\"histogram2d\",\"colorbar\":{\"outlinewidth\":0,\"ticks\":\"\"},\"colorscale\":[[0.0,\"#0d0887\"],[0.1111111111111111,\"#46039f\"],[0.2222222222222222,\"#7201a8\"],[0.3333333333333333,\"#9c179e\"],[0.4444444444444444,\"#bd3786\"],[0.5555555555555556,\"#d8576b\"],[0.6666666666666666,\"#ed7953\"],[0.7777777777777778,\"#fb9f3a\"],[0.8888888888888888,\"#fdca26\"],[1.0,\"#f0f921\"]]}],\"heatmap\":[{\"type\":\"heatmap\",\"colorbar\":{\"outlinewidth\":0,\"ticks\":\"\"},\"colorscale\":[[0.0,\"#0d0887\"],[0.1111111111111111,\"#46039f\"],[0.2222222222222222,\"#7201a8\"],[0.3333333333333333,\"#9c179e\"],[0.4444444444444444,\"#bd3786\"],[0.5555555555555556,\"#d8576b\"],[0.6666666666666666,\"#ed7953\"],[0.7777777777777778,\"#fb9f3a\"],[0.8888888888888888,\"#fdca26\"],[1.0,\"#f0f921\"]]}],\"heatmapgl\":[{\"type\":\"heatmapgl\",\"colorbar\":{\"outlinewidth\":0,\"ticks\":\"\"},\"colorscale\":[[0.0,\"#0d0887\"],[0.1111111111111111,\"#46039f\"],[0.2222222222222222,\"#7201a8\"],[0.3333333333333333,\"#9c179e\"],[0.4444444444444444,\"#bd3786\"],[0.5555555555555556,\"#d8576b\"],[0.6666666666666666,\"#ed7953\"],[0.7777777777777778,\"#fb9f3a\"],[0.8888888888888888,\"#fdca26\"],[1.0,\"#f0f921\"]]}],\"contourcarpet\":[{\"type\":\"contourcarpet\",\"colorbar\":{\"outlinewidth\":0,\"ticks\":\"\"}}],\"contour\":[{\"type\":\"contour\",\"colorbar\":{\"outlinewidth\":0,\"ticks\":\"\"},\"colorscale\":[[0.0,\"#0d0887\"],[0.1111111111111111,\"#46039f\"],[0.2222222222222222,\"#7201a8\"],[0.3333333333333333,\"#9c179e\"],[0.4444444444444444,\"#bd3786\"],[0.5555555555555556,\"#d8576b\"],[0.6666666666666666,\"#ed7953\"],[0.7777777777777778,\"#fb9f3a\"],[0.8888888888888888,\"#fdca26\"],[1.0,\"#f0f921\"]]}],\"surface\":[{\"type\":\"surface\",\"colorbar\":{\"outlinewidth\":0,\"ticks\":\"\"},\"colorscale\":[[0.0,\"#0d0887\"],[0.1111111111111111,\"#46039f\"],[0.2222222222222222,\"#7201a8\"],[0.3333333333333333,\"#9c179e\"],[0.4444444444444444,\"#bd3786\"],[0.5555555555555556,\"#d8576b\"],[0.6666666666666666,\"#ed7953\"],[0.7777777777777778,\"#fb9f3a\"],[0.8888888888888888,\"#fdca26\"],[1.0,\"#f0f921\"]]}],\"mesh3d\":[{\"type\":\"mesh3d\",\"colorbar\":{\"outlinewidth\":0,\"ticks\":\"\"}}],\"scatter\":[{\"fillpattern\":{\"fillmode\":\"overlay\",\"size\":10,\"solidity\":0.2},\"type\":\"scatter\"}],\"parcoords\":[{\"type\":\"parcoords\",\"line\":{\"colorbar\":{\"outlinewidth\":0,\"ticks\":\"\"}}}],\"scatterpolargl\":[{\"type\":\"scatterpolargl\",\"marker\":{\"colorbar\":{\"outlinewidth\":0,\"ticks\":\"\"}}}],\"bar\":[{\"error_x\":{\"color\":\"#2a3f5f\"},\"error_y\":{\"color\":\"#2a3f5f\"},\"marker\":{\"line\":{\"color\":\"#E5ECF6\",\"width\":0.5},\"pattern\":{\"fillmode\":\"overlay\",\"size\":10,\"solidity\":0.2}},\"type\":\"bar\"}],\"scattergeo\":[{\"type\":\"scattergeo\",\"marker\":{\"colorbar\":{\"outlinewidth\":0,\"ticks\":\"\"}}}],\"scatterpolar\":[{\"type\":\"scatterpolar\",\"marker\":{\"colorbar\":{\"outlinewidth\":0,\"ticks\":\"\"}}}],\"histogram\":[{\"marker\":{\"pattern\":{\"fillmode\":\"overlay\",\"size\":10,\"solidity\":0.2}},\"type\":\"histogram\"}],\"scattergl\":[{\"type\":\"scattergl\",\"marker\":{\"colorbar\":{\"outlinewidth\":0,\"ticks\":\"\"}}}],\"scatter3d\":[{\"type\":\"scatter3d\",\"line\":{\"colorbar\":{\"outlinewidth\":0,\"ticks\":\"\"}},\"marker\":{\"colorbar\":{\"outlinewidth\":0,\"ticks\":\"\"}}}],\"scattermapbox\":[{\"type\":\"scattermapbox\",\"marker\":{\"colorbar\":{\"outlinewidth\":0,\"ticks\":\"\"}}}],\"scatterternary\":[{\"type\":\"scatterternary\",\"marker\":{\"colorbar\":{\"outlinewidth\":0,\"ticks\":\"\"}}}],\"scattercarpet\":[{\"type\":\"scattercarpet\",\"marker\":{\"colorbar\":{\"outlinewidth\":0,\"ticks\":\"\"}}}],\"carpet\":[{\"aaxis\":{\"endlinecolor\":\"#2a3f5f\",\"gridcolor\":\"white\",\"linecolor\":\"white\",\"minorgridcolor\":\"white\",\"startlinecolor\":\"#2a3f5f\"},\"baxis\":{\"endlinecolor\":\"#2a3f5f\",\"gridcolor\":\"white\",\"linecolor\":\"white\",\"minorgridcolor\":\"white\",\"startlinecolor\":\"#2a3f5f\"},\"type\":\"carpet\"}],\"table\":[{\"cells\":{\"fill\":{\"color\":\"#EBF0F8\"},\"line\":{\"color\":\"white\"}},\"header\":{\"fill\":{\"color\":\"#C8D4E3\"},\"line\":{\"color\":\"white\"}},\"type\":\"table\"}],\"barpolar\":[{\"marker\":{\"line\":{\"color\":\"#E5ECF6\",\"width\":0.5},\"pattern\":{\"fillmode\":\"overlay\",\"size\":10,\"solidity\":0.2}},\"type\":\"barpolar\"}],\"pie\":[{\"automargin\":true,\"type\":\"pie\"}]},\"layout\":{\"autotypenumbers\":\"strict\",\"colorway\":[\"#636efa\",\"#EF553B\",\"#00cc96\",\"#ab63fa\",\"#FFA15A\",\"#19d3f3\",\"#FF6692\",\"#B6E880\",\"#FF97FF\",\"#FECB52\"],\"font\":{\"color\":\"#2a3f5f\"},\"hovermode\":\"closest\",\"hoverlabel\":{\"align\":\"left\"},\"paper_bgcolor\":\"white\",\"plot_bgcolor\":\"#E5ECF6\",\"polar\":{\"bgcolor\":\"#E5ECF6\",\"angularaxis\":{\"gridcolor\":\"white\",\"linecolor\":\"white\",\"ticks\":\"\"},\"radialaxis\":{\"gridcolor\":\"white\",\"linecolor\":\"white\",\"ticks\":\"\"}},\"ternary\":{\"bgcolor\":\"#E5ECF6\",\"aaxis\":{\"gridcolor\":\"white\",\"linecolor\":\"white\",\"ticks\":\"\"},\"baxis\":{\"gridcolor\":\"white\",\"linecolor\":\"white\",\"ticks\":\"\"},\"caxis\":{\"gridcolor\":\"white\",\"linecolor\":\"white\",\"ticks\":\"\"}},\"coloraxis\":{\"colorbar\":{\"outlinewidth\":0,\"ticks\":\"\"}},\"colorscale\":{\"sequential\":[[0.0,\"#0d0887\"],[0.1111111111111111,\"#46039f\"],[0.2222222222222222,\"#7201a8\"],[0.3333333333333333,\"#9c179e\"],[0.4444444444444444,\"#bd3786\"],[0.5555555555555556,\"#d8576b\"],[0.6666666666666666,\"#ed7953\"],[0.7777777777777778,\"#fb9f3a\"],[0.8888888888888888,\"#fdca26\"],[1.0,\"#f0f921\"]],\"sequentialminus\":[[0.0,\"#0d0887\"],[0.1111111111111111,\"#46039f\"],[0.2222222222222222,\"#7201a8\"],[0.3333333333333333,\"#9c179e\"],[0.4444444444444444,\"#bd3786\"],[0.5555555555555556,\"#d8576b\"],[0.6666666666666666,\"#ed7953\"],[0.7777777777777778,\"#fb9f3a\"],[0.8888888888888888,\"#fdca26\"],[1.0,\"#f0f921\"]],\"diverging\":[[0,\"#8e0152\"],[0.1,\"#c51b7d\"],[0.2,\"#de77ae\"],[0.3,\"#f1b6da\"],[0.4,\"#fde0ef\"],[0.5,\"#f7f7f7\"],[0.6,\"#e6f5d0\"],[0.7,\"#b8e186\"],[0.8,\"#7fbc41\"],[0.9,\"#4d9221\"],[1,\"#276419\"]]},\"xaxis\":{\"gridcolor\":\"white\",\"linecolor\":\"white\",\"ticks\":\"\",\"title\":{\"standoff\":15},\"zerolinecolor\":\"white\",\"automargin\":true,\"zerolinewidth\":2},\"yaxis\":{\"gridcolor\":\"white\",\"linecolor\":\"white\",\"ticks\":\"\",\"title\":{\"standoff\":15},\"zerolinecolor\":\"white\",\"automargin\":true,\"zerolinewidth\":2},\"scene\":{\"xaxis\":{\"backgroundcolor\":\"#E5ECF6\",\"gridcolor\":\"white\",\"linecolor\":\"white\",\"showbackground\":true,\"ticks\":\"\",\"zerolinecolor\":\"white\",\"gridwidth\":2},\"yaxis\":{\"backgroundcolor\":\"#E5ECF6\",\"gridcolor\":\"white\",\"linecolor\":\"white\",\"showbackground\":true,\"ticks\":\"\",\"zerolinecolor\":\"white\",\"gridwidth\":2},\"zaxis\":{\"backgroundcolor\":\"#E5ECF6\",\"gridcolor\":\"white\",\"linecolor\":\"white\",\"showbackground\":true,\"ticks\":\"\",\"zerolinecolor\":\"white\",\"gridwidth\":2}},\"shapedefaults\":{\"line\":{\"color\":\"#2a3f5f\"}},\"annotationdefaults\":{\"arrowcolor\":\"#2a3f5f\",\"arrowhead\":0,\"arrowwidth\":1},\"geo\":{\"bgcolor\":\"white\",\"landcolor\":\"#E5ECF6\",\"subunitcolor\":\"white\",\"showland\":true,\"showlakes\":true,\"lakecolor\":\"white\"},\"title\":{\"x\":0.05},\"mapbox\":{\"style\":\"light\"}}},\"legend\":{\"tracegroupgap\":0},\"title\":{\"text\":\"Electricity-Production\"}},                        {\"responsive\": true}                    ).then(function(){\n",
       "                            \n",
       "var gd = document.getElementById('839826cc-3eb8-4c50-b6da-09e79c05a5e7');\n",
       "var x = new MutationObserver(function (mutations, observer) {{\n",
       "        var display = window.getComputedStyle(gd).display;\n",
       "        if (!display || display === 'none') {{\n",
       "            console.log([gd, 'removed!']);\n",
       "            Plotly.purge(gd);\n",
       "            observer.disconnect();\n",
       "        }}\n",
       "}});\n",
       "\n",
       "// Listen for the removal of the full notebook cells\n",
       "var notebookContainer = gd.closest('#notebook-container');\n",
       "if (notebookContainer) {{\n",
       "    x.observe(notebookContainer, {childList: true});\n",
       "}}\n",
       "\n",
       "// Listen for the clearing of the current output cell\n",
       "var outputEl = gd.closest('.output');\n",
       "if (outputEl) {{\n",
       "    x.observe(outputEl, {childList: true});\n",
       "}}\n",
       "\n",
       "                        })                };                            </script>        </div>\n",
       "</body>\n",
       "</html>"
      ]
     },
     "metadata": {},
     "output_type": "display_data"
    }
   ],
   "source": [
    "fig = px.pie(df_2, values='PRENEL01ZAQ656N', names='DATE', title='Electricity-Production')\n",
    "fig.show()"
   ]
  },
  {
   "cell_type": "markdown",
   "id": "76f75f2e",
   "metadata": {
    "papermill": {
     "duration": 0.01841,
     "end_time": "2024-05-09T08:54:47.181207",
     "exception": false,
     "start_time": "2024-05-09T08:54:47.162797",
     "status": "completed"
    },
    "tags": []
   },
   "source": [
    "**Now lets see what the statistic says about the dataset**"
   ]
  },
  {
   "cell_type": "code",
   "execution_count": 22,
   "id": "72f1f14e",
   "metadata": {
    "execution": {
     "iopub.execute_input": "2024-05-09T08:54:47.220624Z",
     "iopub.status.busy": "2024-05-09T08:54:47.220206Z",
     "iopub.status.idle": "2024-05-09T08:54:47.240480Z",
     "shell.execute_reply": "2024-05-09T08:54:47.239587Z"
    },
    "papermill": {
     "duration": 0.042822,
     "end_time": "2024-05-09T08:54:47.242814",
     "exception": false,
     "start_time": "2024-05-09T08:54:47.199992",
     "status": "completed"
    },
    "tags": []
   },
   "outputs": [
    {
     "data": {
      "text/html": [
       "<div>\n",
       "<style scoped>\n",
       "    .dataframe tbody tr th:only-of-type {\n",
       "        vertical-align: middle;\n",
       "    }\n",
       "\n",
       "    .dataframe tbody tr th {\n",
       "        vertical-align: top;\n",
       "    }\n",
       "\n",
       "    .dataframe thead th {\n",
       "        text-align: right;\n",
       "    }\n",
       "</style>\n",
       "<table border=\"1\" class=\"dataframe\">\n",
       "  <thead>\n",
       "    <tr style=\"text-align: right;\">\n",
       "      <th></th>\n",
       "      <th>count</th>\n",
       "      <th>mean</th>\n",
       "      <th>std</th>\n",
       "      <th>min</th>\n",
       "      <th>25%</th>\n",
       "      <th>50%</th>\n",
       "      <th>75%</th>\n",
       "      <th>max</th>\n",
       "    </tr>\n",
       "  </thead>\n",
       "  <tbody>\n",
       "    <tr>\n",
       "      <th>PRENEL01ZAQ656N</th>\n",
       "      <td>15.0</td>\n",
       "      <td>21120.688889</td>\n",
       "      <td>477.363351</td>\n",
       "      <td>20448.333333</td>\n",
       "      <td>20768.833333</td>\n",
       "      <td>21064.0</td>\n",
       "      <td>21521.166667</td>\n",
       "      <td>21837.333333</td>\n",
       "    </tr>\n",
       "  </tbody>\n",
       "</table>\n",
       "</div>"
      ],
      "text/plain": [
       "                 count          mean         std           min           25%  \\\n",
       "PRENEL01ZAQ656N   15.0  21120.688889  477.363351  20448.333333  20768.833333   \n",
       "\n",
       "                     50%           75%           max  \n",
       "PRENEL01ZAQ656N  21064.0  21521.166667  21837.333333  "
      ]
     },
     "execution_count": 22,
     "metadata": {},
     "output_type": "execute_result"
    }
   ],
   "source": [
    "df_2.describe().T"
   ]
  },
  {
   "cell_type": "markdown",
   "id": "0515d94b",
   "metadata": {
    "papermill": {
     "duration": 0.018937,
     "end_time": "2024-05-09T08:54:47.281368",
     "exception": false,
     "start_time": "2024-05-09T08:54:47.262431",
     "status": "completed"
    },
    "tags": []
   },
   "source": [
    "The results shows that the maximum value of electricity produced is 21837.333333 which was produced in 2019 according to the bar chart. The minimun value is 20448.333333 which was produced in 2015. The average is 21120.688889 and the standard deviation is 477.363351 which simply tell us that each year is approximately 478 produced away from the average"
   ]
  },
  {
   "cell_type": "markdown",
   "id": "e821bd7f",
   "metadata": {
    "papermill": {
     "duration": 0.019392,
     "end_time": "2024-05-09T08:54:47.320295",
     "exception": false,
     "start_time": "2024-05-09T08:54:47.300903",
     "status": "completed"
    },
    "tags": []
   },
   "source": [
    "**Now we move to the stats of df3**"
   ]
  },
  {
   "cell_type": "code",
   "execution_count": 23,
   "id": "706e77f5",
   "metadata": {
    "execution": {
     "iopub.execute_input": "2024-05-09T08:54:47.360710Z",
     "iopub.status.busy": "2024-05-09T08:54:47.359966Z",
     "iopub.status.idle": "2024-05-09T08:54:47.380842Z",
     "shell.execute_reply": "2024-05-09T08:54:47.379592Z"
    },
    "papermill": {
     "duration": 0.044083,
     "end_time": "2024-05-09T08:54:47.383423",
     "exception": false,
     "start_time": "2024-05-09T08:54:47.339340",
     "status": "completed"
    },
    "tags": []
   },
   "outputs": [
    {
     "data": {
      "text/html": [
       "<div>\n",
       "<style scoped>\n",
       "    .dataframe tbody tr th:only-of-type {\n",
       "        vertical-align: middle;\n",
       "    }\n",
       "\n",
       "    .dataframe tbody tr th {\n",
       "        vertical-align: top;\n",
       "    }\n",
       "\n",
       "    .dataframe thead th {\n",
       "        text-align: right;\n",
       "    }\n",
       "</style>\n",
       "<table border=\"1\" class=\"dataframe\">\n",
       "  <thead>\n",
       "    <tr style=\"text-align: right;\">\n",
       "      <th></th>\n",
       "      <th>count</th>\n",
       "      <th>mean</th>\n",
       "      <th>std</th>\n",
       "      <th>min</th>\n",
       "      <th>25%</th>\n",
       "      <th>50%</th>\n",
       "      <th>75%</th>\n",
       "      <th>max</th>\n",
       "    </tr>\n",
       "  </thead>\n",
       "  <tbody>\n",
       "    <tr>\n",
       "      <th>stage</th>\n",
       "      <td>422.0</td>\n",
       "      <td>1.059242</td>\n",
       "      <td>1.067239</td>\n",
       "      <td>0.0</td>\n",
       "      <td>0.0</td>\n",
       "      <td>1.0</td>\n",
       "      <td>2.0</td>\n",
       "      <td>6.0</td>\n",
       "    </tr>\n",
       "  </tbody>\n",
       "</table>\n",
       "</div>"
      ],
      "text/plain": [
       "       count      mean       std  min  25%  50%  75%  max\n",
       "stage  422.0  1.059242  1.067239  0.0  0.0  1.0  2.0  6.0"
      ]
     },
     "execution_count": 23,
     "metadata": {},
     "output_type": "execute_result"
    }
   ],
   "source": [
    "df3.describe().T"
   ]
  },
  {
   "cell_type": "markdown",
   "id": "af5f26a0",
   "metadata": {
    "papermill": {
     "duration": 0.019245,
     "end_time": "2024-05-09T08:54:47.422197",
     "exception": false,
     "start_time": "2024-05-09T08:54:47.402952",
     "status": "completed"
    },
    "tags": []
   },
   "source": [
    "Loadshedding results shows that stage 6 was the maximum stage reached in 2019 then the minimum stage is 0 which is dominating in 2015. stage 1.059242 which is stage 1 is the average and the distance from the average of each stage is 1.067239"
   ]
  },
  {
   "cell_type": "markdown",
   "id": "08fe62dd",
   "metadata": {
    "papermill": {
     "duration": 0.018963,
     "end_time": "2024-05-09T08:54:47.460433",
     "exception": false,
     "start_time": "2024-05-09T08:54:47.441470",
     "status": "completed"
    },
    "tags": []
   },
   "source": [
    "***CONCLUSION***"
   ]
  },
  {
   "cell_type": "markdown",
   "id": "d2c7a239",
   "metadata": {
    "papermill": {
     "duration": 0.020846,
     "end_time": "2024-05-09T08:54:47.501187",
     "exception": false,
     "start_time": "2024-05-09T08:54:47.480341",
     "status": "completed"
    },
    "tags": []
   },
   "source": [
    "At this point we experienced stage 6 only once in 2019 whereby electricity produced was higher. Ranging from 2015 to 2018 there was no much impact therefore the difference is indeed ignorable. from 2019 to 2020 there was a rise in stages of loadshedding. well the relationship is not proportional"
   ]
  },
  {
   "cell_type": "code",
   "execution_count": null,
   "id": "20b75ef7",
   "metadata": {
    "papermill": {
     "duration": 0.021703,
     "end_time": "2024-05-09T08:54:47.542421",
     "exception": false,
     "start_time": "2024-05-09T08:54:47.520718",
     "status": "completed"
    },
    "tags": []
   },
   "outputs": [],
   "source": []
  },
  {
   "cell_type": "markdown",
   "id": "4df95767",
   "metadata": {
    "papermill": {
     "duration": 0.019329,
     "end_time": "2024-05-09T08:54:47.581535",
     "exception": false,
     "start_time": "2024-05-09T08:54:47.562206",
     "status": "completed"
    },
    "tags": []
   },
   "source": []
  },
  {
   "cell_type": "markdown",
   "id": "5fbcb5fb",
   "metadata": {
    "papermill": {
     "duration": 0.018979,
     "end_time": "2024-05-09T08:54:47.621056",
     "exception": false,
     "start_time": "2024-05-09T08:54:47.602077",
     "status": "completed"
    },
    "tags": []
   },
   "source": []
  },
  {
   "cell_type": "markdown",
   "id": "89b2ffa4",
   "metadata": {
    "papermill": {
     "duration": 0.018847,
     "end_time": "2024-05-09T08:54:47.659171",
     "exception": false,
     "start_time": "2024-05-09T08:54:47.640324",
     "status": "completed"
    },
    "tags": []
   },
   "source": []
  },
  {
   "cell_type": "markdown",
   "id": "e097a8c7",
   "metadata": {
    "papermill": {
     "duration": 0.019259,
     "end_time": "2024-05-09T08:54:47.698153",
     "exception": false,
     "start_time": "2024-05-09T08:54:47.678894",
     "status": "completed"
    },
    "tags": []
   },
   "source": []
  },
  {
   "cell_type": "markdown",
   "id": "000b24d1",
   "metadata": {
    "papermill": {
     "duration": 0.019289,
     "end_time": "2024-05-09T08:54:47.736611",
     "exception": false,
     "start_time": "2024-05-09T08:54:47.717322",
     "status": "completed"
    },
    "tags": []
   },
   "source": []
  }
 ],
 "metadata": {
  "kaggle": {
   "accelerator": "none",
   "dataSources": [
    {
     "datasetId": 895096,
     "sourceId": 1530931,
     "sourceType": "datasetVersion"
    }
   ],
   "dockerImageVersionId": 30698,
   "isGpuEnabled": false,
   "isInternetEnabled": false,
   "language": "python",
   "sourceType": "notebook"
  },
  "kernelspec": {
   "display_name": "Python 3",
   "language": "python",
   "name": "python3"
  },
  "language_info": {
   "codemirror_mode": {
    "name": "ipython",
    "version": 3
   },
   "file_extension": ".py",
   "mimetype": "text/x-python",
   "name": "python",
   "nbconvert_exporter": "python",
   "pygments_lexer": "ipython3",
   "version": "3.10.13"
  },
  "papermill": {
   "default_parameters": {},
   "duration": 10.062824,
   "end_time": "2024-05-09T08:54:48.377729",
   "environment_variables": {},
   "exception": null,
   "input_path": "__notebook__.ipynb",
   "output_path": "__notebook__.ipynb",
   "parameters": {},
   "start_time": "2024-05-09T08:54:38.314905",
   "version": "2.5.0"
  }
 },
 "nbformat": 4,
 "nbformat_minor": 5
}
